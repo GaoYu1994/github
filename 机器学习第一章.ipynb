{
 "cells": [
  {
   "cell_type": "markdown",
   "metadata": {},
   "source": [
    "## 一、机器学习第一课"
   ]
  },
  {
   "cell_type": "markdown",
   "metadata": {},
   "source": [
    "### 1、机器学习的魔法命令"
   ]
  },
  {
   "cell_type": "markdown",
   "metadata": {},
   "source": [
    "#### 1.1  %run  的使用"
   ]
  },
  {
   "cell_type": "markdown",
   "metadata": {},
   "source": [
    "#### 1.3 %%timeit的使用（进行多次loop，重复运行，从而选取几次最优程序运行时间取平均）"
   ]
  },
  {
   "cell_type": "code",
   "execution_count": 54,
   "metadata": {},
   "outputs": [
    {
     "name": "stdout",
     "output_type": "stream",
     "text": [
      "298 µs ± 7.61 µs per loop (mean ± std. dev. of 7 runs, 1000 loops each)\n"
     ]
    }
   ],
   "source": [
    "%%timeit\n",
    "L = []\n",
    "for n in range(1000):\n",
    "    L.append(n**2)"
   ]
  },
  {
   "cell_type": "markdown",
   "metadata": {},
   "source": [
    "#### 1.2 导入一个新的模块，就像导入python的第三方库的方式一样"
   ]
  },
  {
   "cell_type": "markdown",
   "metadata": {},
   "source": [
    "#### 不使用循环，使用列表的生成表达式形式，单行代码（注：列表的生成表达式真的强大）"
   ]
  },
  {
   "cell_type": "code",
   "execution_count": 40,
   "metadata": {},
   "outputs": [
    {
     "name": "stdout",
     "output_type": "stream",
     "text": [
      "277 µs ± 13.7 µs per loop (mean ± std. dev. of 7 runs, 1000 loops each)\n"
     ]
    }
   ],
   "source": [
    "%timeit L = [i**2 for i in range(1000)]"
   ]
  },
  {
   "cell_type": "markdown",
   "metadata": {},
   "source": [
    "#### 注：列表的功能真的强大，将几行代码缩短成一行在列表中，后续深入研究"
   ]
  },
  {
   "cell_type": "markdown",
   "metadata": {},
   "source": [
    "#### 1.4 %time 的使用（只是一次程序运行的时间，具有随机性）"
   ]
  },
  {
   "cell_type": "code",
   "execution_count": 41,
   "metadata": {},
   "outputs": [
    {
     "name": "stdout",
     "output_type": "stream",
     "text": [
      "Wall time: 0 ns\n"
     ]
    }
   ],
   "source": [
    "%time L = [i**2 for i in range(1000)]"
   ]
  },
  {
   "cell_type": "code",
   "execution_count": 42,
   "metadata": {},
   "outputs": [
    {
     "name": "stdout",
     "output_type": "stream",
     "text": [
      "Wall time: 0 ns\n"
     ]
    }
   ],
   "source": [
    "%%time \n",
    "L = []\n",
    "for n in range(1000):\n",
    "    L.append(n**2)"
   ]
  },
  {
   "cell_type": "code",
   "execution_count": 43,
   "metadata": {},
   "outputs": [
    {
     "name": "stdout",
     "output_type": "stream",
     "text": [
      "2.36 µs ± 18.5 ns per loop (mean ± std. dev. of 7 runs, 100000 loops each)\n"
     ]
    }
   ],
   "source": [
    "import random\n",
    "L = [random.random() for i in range(1000)]\n",
    "%timeit L.sort()"
   ]
  },
  {
   "cell_type": "code",
   "execution_count": 44,
   "metadata": {},
   "outputs": [
    {
     "name": "stdout",
     "output_type": "stream",
     "text": [
      "Wall time: 0 ns\n"
     ]
    }
   ],
   "source": [
    "b = [random.random() for i in range(10000)]\n",
    "%time b.sort()"
   ]
  },
  {
   "cell_type": "code",
   "execution_count": 45,
   "metadata": {},
   "outputs": [
    {
     "name": "stdout",
     "output_type": "stream",
     "text": [
      "Wall time: 0 ns\n"
     ]
    }
   ],
   "source": [
    "%time b.sort()"
   ]
  },
  {
   "cell_type": "markdown",
   "metadata": {},
   "source": [
    "### 其他魔法命令"
   ]
  },
  {
   "cell_type": "code",
   "execution_count": 46,
   "metadata": {},
   "outputs": [
    {
     "data": {
      "application/json": {
       "cell": {
        "!": "OSMagics",
        "HTML": "Other",
        "SVG": "Other",
        "bash": "Other",
        "capture": "ExecutionMagics",
        "cmd": "Other",
        "debug": "ExecutionMagics",
        "file": "Other",
        "html": "DisplayMagics",
        "javascript": "DisplayMagics",
        "js": "DisplayMagics",
        "latex": "DisplayMagics",
        "markdown": "DisplayMagics",
        "perl": "Other",
        "prun": "ExecutionMagics",
        "pypy": "Other",
        "python": "Other",
        "python2": "Other",
        "python3": "Other",
        "ruby": "Other",
        "script": "ScriptMagics",
        "sh": "Other",
        "svg": "DisplayMagics",
        "sx": "OSMagics",
        "system": "OSMagics",
        "time": "ExecutionMagics",
        "timeit": "ExecutionMagics",
        "writefile": "OSMagics"
       },
       "line": {
        "alias": "OSMagics",
        "alias_magic": "BasicMagics",
        "autocall": "AutoMagics",
        "automagic": "AutoMagics",
        "autosave": "KernelMagics",
        "bookmark": "OSMagics",
        "cd": "OSMagics",
        "clear": "KernelMagics",
        "cls": "KernelMagics",
        "colors": "BasicMagics",
        "config": "ConfigMagics",
        "connect_info": "KernelMagics",
        "copy": "Other",
        "ddir": "Other",
        "debug": "ExecutionMagics",
        "dhist": "OSMagics",
        "dirs": "OSMagics",
        "doctest_mode": "BasicMagics",
        "echo": "Other",
        "ed": "Other",
        "edit": "KernelMagics",
        "env": "OSMagics",
        "gui": "BasicMagics",
        "hist": "Other",
        "history": "HistoryMagics",
        "killbgscripts": "ScriptMagics",
        "ldir": "Other",
        "less": "KernelMagics",
        "load": "CodeMagics",
        "load_ext": "ExtensionMagics",
        "loadpy": "CodeMagics",
        "logoff": "LoggingMagics",
        "logon": "LoggingMagics",
        "logstart": "LoggingMagics",
        "logstate": "LoggingMagics",
        "logstop": "LoggingMagics",
        "ls": "Other",
        "lsmagic": "BasicMagics",
        "macro": "ExecutionMagics",
        "magic": "BasicMagics",
        "matplotlib": "PylabMagics",
        "mkdir": "Other",
        "more": "KernelMagics",
        "notebook": "BasicMagics",
        "page": "BasicMagics",
        "pastebin": "CodeMagics",
        "pdb": "ExecutionMagics",
        "pdef": "NamespaceMagics",
        "pdoc": "NamespaceMagics",
        "pfile": "NamespaceMagics",
        "pinfo": "NamespaceMagics",
        "pinfo2": "NamespaceMagics",
        "pip": "BasicMagics",
        "popd": "OSMagics",
        "pprint": "BasicMagics",
        "precision": "BasicMagics",
        "profile": "BasicMagics",
        "prun": "ExecutionMagics",
        "psearch": "NamespaceMagics",
        "psource": "NamespaceMagics",
        "pushd": "OSMagics",
        "pwd": "OSMagics",
        "pycat": "OSMagics",
        "pylab": "PylabMagics",
        "qtconsole": "KernelMagics",
        "quickref": "BasicMagics",
        "recall": "HistoryMagics",
        "rehashx": "OSMagics",
        "reload_ext": "ExtensionMagics",
        "ren": "Other",
        "rep": "Other",
        "rerun": "HistoryMagics",
        "reset": "NamespaceMagics",
        "reset_selective": "NamespaceMagics",
        "rmdir": "Other",
        "run": "ExecutionMagics",
        "save": "CodeMagics",
        "sc": "OSMagics",
        "set_env": "OSMagics",
        "store": "StoreMagics",
        "sx": "OSMagics",
        "system": "OSMagics",
        "tb": "ExecutionMagics",
        "time": "ExecutionMagics",
        "timeit": "ExecutionMagics",
        "unalias": "OSMagics",
        "unload_ext": "ExtensionMagics",
        "who": "NamespaceMagics",
        "who_ls": "NamespaceMagics",
        "whos": "NamespaceMagics",
        "xdel": "NamespaceMagics",
        "xmode": "BasicMagics"
       }
      },
      "text/plain": [
       "Available line magics:\n",
       "%alias  %alias_magic  %autocall  %automagic  %autosave  %bookmark  %cd  %clear  %cls  %colors  %config  %connect_info  %copy  %ddir  %debug  %dhist  %dirs  %doctest_mode  %echo  %ed  %edit  %env  %gui  %hist  %history  %killbgscripts  %ldir  %less  %load  %load_ext  %loadpy  %logoff  %logon  %logstart  %logstate  %logstop  %ls  %lsmagic  %macro  %magic  %matplotlib  %mkdir  %more  %notebook  %page  %pastebin  %pdb  %pdef  %pdoc  %pfile  %pinfo  %pinfo2  %popd  %pprint  %precision  %profile  %prun  %psearch  %psource  %pushd  %pwd  %pycat  %pylab  %qtconsole  %quickref  %recall  %rehashx  %reload_ext  %ren  %rep  %rerun  %reset  %reset_selective  %rmdir  %run  %save  %sc  %set_env  %store  %sx  %system  %tb  %time  %timeit  %unalias  %unload_ext  %who  %who_ls  %whos  %xdel  %xmode\n",
       "\n",
       "Available cell magics:\n",
       "%%!  %%HTML  %%SVG  %%bash  %%capture  %%cmd  %%debug  %%file  %%html  %%javascript  %%js  %%latex  %%markdown  %%perl  %%prun  %%pypy  %%python  %%python2  %%python3  %%ruby  %%script  %%sh  %%svg  %%sx  %%system  %%time  %%timeit  %%writefile\n",
       "\n",
       "Automagic is ON, % prefix IS NOT needed for line magics."
      ]
     },
     "execution_count": 46,
     "metadata": {},
     "output_type": "execute_result"
    }
   ],
   "source": [
    "%lsmagic"
   ]
  },
  {
   "cell_type": "markdown",
   "metadata": {},
   "source": [
    "### 看相应魔法命令的文档"
   ]
  },
  {
   "cell_type": "code",
   "execution_count": 47,
   "metadata": {},
   "outputs": [],
   "source": [
    "%run?"
   ]
  },
  {
   "cell_type": "markdown",
   "metadata": {},
   "source": [
    "#### 上述命令可以打开%run魔法命令的帮助文档"
   ]
  },
  {
   "cell_type": "markdown",
   "metadata": {},
   "source": [
    "# 2、numpy"
   ]
  },
  {
   "cell_type": "markdown",
   "metadata": {},
   "source": [
    "#### (1)、numpy.array类型"
   ]
  },
  {
   "cell_type": "code",
   "execution_count": 48,
   "metadata": {},
   "outputs": [
    {
     "data": {
      "text/plain": [
       "array([0, 1, 2, 3, 4, 5, 6, 7, 8, 9])"
      ]
     },
     "execution_count": 48,
     "metadata": {},
     "output_type": "execute_result"
    }
   ],
   "source": [
    "import numpy as np\n",
    "nparr = np.array([i for i in range(10)])\n",
    "nparr"
   ]
  },
  {
   "cell_type": "code",
   "execution_count": 49,
   "metadata": {},
   "outputs": [],
   "source": [
    "nparr[5] = 100"
   ]
  },
  {
   "cell_type": "code",
   "execution_count": 50,
   "metadata": {},
   "outputs": [
    {
     "data": {
      "text/plain": [
       "array([  0,   1,   2,   3,   4, 100,   6,   7,   8,   9])"
      ]
     },
     "execution_count": 50,
     "metadata": {},
     "output_type": "execute_result"
    }
   ],
   "source": [
    "nparr"
   ]
  },
  {
   "cell_type": "code",
   "execution_count": 51,
   "metadata": {},
   "outputs": [
    {
     "ename": "ValueError",
     "evalue": "invalid literal for int() with base 10: 'abc'",
     "output_type": "error",
     "traceback": [
      "\u001b[1;31m---------------------------------------------------------------------------\u001b[0m",
      "\u001b[1;31mValueError\u001b[0m                                Traceback (most recent call last)",
      "\u001b[1;32m<ipython-input-51-3413e4cd15a2>\u001b[0m in \u001b[0;36m<module>\u001b[1;34m()\u001b[0m\n\u001b[1;32m----> 1\u001b[1;33m \u001b[0mnparr\u001b[0m\u001b[1;33m[\u001b[0m\u001b[1;36m4\u001b[0m\u001b[1;33m]\u001b[0m \u001b[1;33m=\u001b[0m \u001b[1;34m\"abc\"\u001b[0m\u001b[1;33m\u001b[0m\u001b[0m\n\u001b[0m",
      "\u001b[1;31mValueError\u001b[0m: invalid literal for int() with base 10: 'abc'"
     ]
    }
   ],
   "source": [
    "nparr[4] = \"abc\""
   ]
  },
  {
   "cell_type": "markdown",
   "metadata": {},
   "source": [
    "##### 上述错误的原因是上述是字符串不是整型"
   ]
  },
  {
   "cell_type": "code",
   "execution_count": null,
   "metadata": {},
   "outputs": [],
   "source": [
    "nparr.dtype"
   ]
  },
  {
   "cell_type": "markdown",
   "metadata": {},
   "source": [
    "##### 可以看到上述nparr存储的数据类型是int32"
   ]
  },
  {
   "cell_type": "markdown",
   "metadata": {},
   "source": [
    "#### (2)、其他创建numpy.array的方法"
   ]
  },
  {
   "cell_type": "code",
   "execution_count": 55,
   "metadata": {},
   "outputs": [
    {
     "data": {
      "text/plain": [
       "array([0., 0., 0., 0., 0., 0., 0., 0., 0., 0.])"
      ]
     },
     "execution_count": 55,
     "metadata": {},
     "output_type": "execute_result"
    }
   ],
   "source": [
    "np.zeros(10)"
   ]
  },
  {
   "cell_type": "code",
   "execution_count": 56,
   "metadata": {},
   "outputs": [
    {
     "data": {
      "text/plain": [
       "dtype('float64')"
      ]
     },
     "execution_count": 56,
     "metadata": {},
     "output_type": "execute_result"
    }
   ],
   "source": [
    "np.zeros(10).dtype"
   ]
  },
  {
   "cell_type": "code",
   "execution_count": 57,
   "metadata": {},
   "outputs": [
    {
     "data": {
      "text/plain": [
       "array([0, 0, 0, 0, 0, 0, 0, 0, 0, 0])"
      ]
     },
     "execution_count": 57,
     "metadata": {},
     "output_type": "execute_result"
    }
   ],
   "source": [
    "np.zeros(10,dtype=int)"
   ]
  },
  {
   "cell_type": "code",
   "execution_count": 58,
   "metadata": {},
   "outputs": [
    {
     "data": {
      "text/plain": [
       "array([1., 1., 1., 1., 1., 1., 1., 1., 1., 1.])"
      ]
     },
     "execution_count": 58,
     "metadata": {},
     "output_type": "execute_result"
    }
   ],
   "source": [
    "np.ones(10)"
   ]
  },
  {
   "cell_type": "code",
   "execution_count": 59,
   "metadata": {},
   "outputs": [
    {
     "data": {
      "text/plain": [
       "array([[666, 666, 666, 666, 666],\n",
       "       [666, 666, 666, 666, 666],\n",
       "       [666, 666, 666, 666, 666]])"
      ]
     },
     "execution_count": 59,
     "metadata": {},
     "output_type": "execute_result"
    }
   ],
   "source": [
    "np.full((3,5),666)"
   ]
  },
  {
   "cell_type": "code",
   "execution_count": 60,
   "metadata": {},
   "outputs": [
    {
     "data": {
      "text/plain": [
       "array([[666., 666., 666., 666., 666.],\n",
       "       [666., 666., 666., 666., 666.],\n",
       "       [666., 666., 666., 666., 666.]])"
      ]
     },
     "execution_count": 60,
     "metadata": {},
     "output_type": "execute_result"
    }
   ],
   "source": [
    "np.full(fill_value = 666.0,shape=(3,5))"
   ]
  },
  {
   "cell_type": "code",
   "execution_count": 61,
   "metadata": {},
   "outputs": [
    {
     "data": {
      "text/plain": [
       "array([[666., 666., 666., 666., 666.],\n",
       "       [666., 666., 666., 666., 666.],\n",
       "       [666., 666., 666., 666., 666.]])"
      ]
     },
     "execution_count": 61,
     "metadata": {},
     "output_type": "execute_result"
    }
   ],
   "source": [
    "np.full(shape=(3,5),fill_value = 666.0)"
   ]
  },
  {
   "cell_type": "markdown",
   "metadata": {},
   "source": [
    "#### arange"
   ]
  },
  {
   "cell_type": "code",
   "execution_count": 62,
   "metadata": {},
   "outputs": [
    {
     "data": {
      "text/plain": [
       "array([0, 1, 2, 3, 4, 5, 6, 7, 8, 9])"
      ]
     },
     "execution_count": 62,
     "metadata": {},
     "output_type": "execute_result"
    }
   ],
   "source": [
    "\n",
    "np.arange(0,10)"
   ]
  },
  {
   "cell_type": "markdown",
   "metadata": {},
   "source": [
    "#### linspace"
   ]
  },
  {
   "cell_type": "markdown",
   "metadata": {},
   "source": [
    "##### 在0-20之间等长的截出10个数"
   ]
  },
  {
   "cell_type": "code",
   "execution_count": 63,
   "metadata": {},
   "outputs": [
    {
     "data": {
      "text/plain": [
       "array([ 0.        ,  2.22222222,  4.44444444,  6.66666667,  8.88888889,\n",
       "       11.11111111, 13.33333333, 15.55555556, 17.77777778, 20.        ])"
      ]
     },
     "execution_count": 63,
     "metadata": {},
     "output_type": "execute_result"
    }
   ],
   "source": [
    "np.linspace(0,20,10)"
   ]
  },
  {
   "cell_type": "markdown",
   "metadata": {},
   "source": [
    "#### 机器学习中的随机数生成 ，为了调试方便使用seed"
   ]
  },
  {
   "cell_type": "code",
   "execution_count": 66,
   "metadata": {},
   "outputs": [],
   "source": [
    "np.random.seed(12)"
   ]
  },
  {
   "cell_type": "code",
   "execution_count": 65,
   "metadata": {},
   "outputs": [
    {
     "data": {
      "text/plain": [
       "array([[7, 7, 6, 5, 5],\n",
       "       [6, 7, 7, 4, 4],\n",
       "       [6, 5, 4, 5, 5]])"
      ]
     },
     "execution_count": 65,
     "metadata": {},
     "output_type": "execute_result"
    }
   ],
   "source": [
    "np.random.randint(4,8,size=(3,5))"
   ]
  },
  {
   "cell_type": "code",
   "execution_count": 67,
   "metadata": {},
   "outputs": [
    {
     "data": {
      "text/plain": [
       "array([[7, 7, 6, 5, 5],\n",
       "       [6, 7, 7, 4, 4],\n",
       "       [6, 5, 4, 5, 5]])"
      ]
     },
     "execution_count": 67,
     "metadata": {},
     "output_type": "execute_result"
    }
   ],
   "source": [
    "np.random.seed(12)\n",
    "np.random.randint(4,8,size=(3,5))"
   ]
  },
  {
   "cell_type": "markdown",
   "metadata": {},
   "source": [
    "#### 上述这样，两次就会生成一样的随机数"
   ]
  },
  {
   "cell_type": "code",
   "execution_count": 68,
   "metadata": {},
   "outputs": [
    {
     "data": {
      "text/plain": [
       "0.21692459952751122"
      ]
     },
     "execution_count": 68,
     "metadata": {},
     "output_type": "execute_result"
    }
   ],
   "source": [
    "np.random.normal()"
   ]
  },
  {
   "cell_type": "markdown",
   "metadata": {},
   "source": [
    "#### 生成一个均值为10，方差为100的随机浮点数"
   ]
  },
  {
   "cell_type": "code",
   "execution_count": 69,
   "metadata": {},
   "outputs": [
    {
     "data": {
      "text/plain": [
       "-30.07924638161856"
      ]
     },
     "execution_count": 69,
     "metadata": {},
     "output_type": "execute_result"
    }
   ],
   "source": [
    "np.random.normal(10,100)"
   ]
  },
  {
   "cell_type": "code",
   "execution_count": 70,
   "metadata": {},
   "outputs": [
    {
     "data": {
      "text/plain": [
       "array([[ 158.05504707,  -96.97590061,    8.62359076,   46.04244816,\n",
       "          31.30667576],\n",
       "       [  18.58009164,  234.57507997, -146.31437482,   82.59745214,\n",
       "         -88.96241976],\n",
       "       [-134.18519071,    9.97337086,  -89.17300142,   46.06810967,\n",
       "        -216.09079455]])"
      ]
     },
     "execution_count": 70,
     "metadata": {},
     "output_type": "execute_result"
    }
   ],
   "source": [
    "np.random.normal(10,100,(3,5))"
   ]
  },
  {
   "cell_type": "markdown",
   "metadata": {},
   "source": [
    "### 进行文档的查询，也就是进行每个函数或者模块的查询   例如：np.random.normal?   或者  help(np.random.normal)"
   ]
  },
  {
   "cell_type": "code",
   "execution_count": 71,
   "metadata": {},
   "outputs": [],
   "source": [
    "np.random.normal?"
   ]
  },
  {
   "cell_type": "code",
   "execution_count": null,
   "metadata": {},
   "outputs": [],
   "source": [
    "help(np.random.normal)"
   ]
  },
  {
   "cell_type": "markdown",
   "metadata": {},
   "source": [
    "#### numpy访问多维数组中的元素"
   ]
  },
  {
   "cell_type": "code",
   "execution_count": 72,
   "metadata": {},
   "outputs": [],
   "source": [
    "x = np.arange(15).reshape(3,5)"
   ]
  },
  {
   "cell_type": "code",
   "execution_count": 73,
   "metadata": {},
   "outputs": [
    {
     "data": {
      "text/plain": [
       "array([[ 0,  1,  2,  3,  4],\n",
       "       [ 5,  6,  7,  8,  9],\n",
       "       [10, 11, 12, 13, 14]])"
      ]
     },
     "execution_count": 73,
     "metadata": {},
     "output_type": "execute_result"
    }
   ],
   "source": [
    "x"
   ]
  },
  {
   "cell_type": "code",
   "execution_count": 74,
   "metadata": {},
   "outputs": [
    {
     "data": {
      "text/plain": [
       "2"
      ]
     },
     "execution_count": 74,
     "metadata": {},
     "output_type": "execute_result"
    }
   ],
   "source": [
    "x.ndim"
   ]
  },
  {
   "cell_type": "code",
   "execution_count": 75,
   "metadata": {},
   "outputs": [
    {
     "data": {
      "text/plain": [
       "(3, 5)"
      ]
     },
     "execution_count": 75,
     "metadata": {},
     "output_type": "execute_result"
    }
   ],
   "source": [
    "x.shape"
   ]
  },
  {
   "cell_type": "code",
   "execution_count": 76,
   "metadata": {},
   "outputs": [
    {
     "data": {
      "text/plain": [
       "array([0, 1, 2, 3, 4])"
      ]
     },
     "execution_count": 76,
     "metadata": {},
     "output_type": "execute_result"
    }
   ],
   "source": [
    "x[0]"
   ]
  },
  {
   "cell_type": "code",
   "execution_count": 77,
   "metadata": {},
   "outputs": [
    {
     "data": {
      "text/plain": [
       "array([10, 11, 12, 13, 14])"
      ]
     },
     "execution_count": 77,
     "metadata": {},
     "output_type": "execute_result"
    }
   ],
   "source": [
    "x[-1]"
   ]
  },
  {
   "cell_type": "code",
   "execution_count": 78,
   "metadata": {},
   "outputs": [
    {
     "data": {
      "text/plain": [
       "0"
      ]
     },
     "execution_count": 78,
     "metadata": {},
     "output_type": "execute_result"
    }
   ],
   "source": [
    "x[0][0]"
   ]
  },
  {
   "cell_type": "markdown",
   "metadata": {},
   "source": [
    "#### 上面这种方法不推荐，常用的是下面这种形式,使用逗号这种形式"
   ]
  },
  {
   "cell_type": "code",
   "execution_count": 79,
   "metadata": {},
   "outputs": [
    {
     "data": {
      "text/plain": [
       "0"
      ]
     },
     "execution_count": 79,
     "metadata": {},
     "output_type": "execute_result"
    }
   ],
   "source": [
    "x[0,0]"
   ]
  },
  {
   "cell_type": "code",
   "execution_count": 80,
   "metadata": {},
   "outputs": [
    {
     "data": {
      "text/plain": [
       "array([[0, 1, 2, 3, 4]])"
      ]
     },
     "execution_count": 80,
     "metadata": {},
     "output_type": "execute_result"
    }
   ],
   "source": [
    "x[:2:3]"
   ]
  },
  {
   "cell_type": "code",
   "execution_count": 81,
   "metadata": {},
   "outputs": [
    {
     "data": {
      "text/plain": [
       "array([[0, 1, 2],\n",
       "       [5, 6, 7]])"
      ]
     },
     "execution_count": 81,
     "metadata": {},
     "output_type": "execute_result"
    }
   ],
   "source": [
    "x[:2,:3]"
   ]
  },
  {
   "cell_type": "markdown",
   "metadata": {},
   "source": [
    "#### 下面操作是：访问数组的前两行，对于每一行进行切片"
   ]
  },
  {
   "cell_type": "code",
   "execution_count": 82,
   "metadata": {},
   "outputs": [
    {
     "data": {
      "text/plain": [
       "array([[0, 2, 4],\n",
       "       [5, 7, 9]])"
      ]
     },
     "execution_count": 82,
     "metadata": {},
     "output_type": "execute_result"
    }
   ],
   "source": [
    "x[:2,::2]"
   ]
  },
  {
   "cell_type": "code",
   "execution_count": 83,
   "metadata": {},
   "outputs": [
    {
     "data": {
      "text/plain": [
       "array([[10, 11, 12, 13, 14],\n",
       "       [ 5,  6,  7,  8,  9],\n",
       "       [ 0,  1,  2,  3,  4]])"
      ]
     },
     "execution_count": 83,
     "metadata": {},
     "output_type": "execute_result"
    }
   ],
   "source": [
    "x[::-1]"
   ]
  },
  {
   "cell_type": "code",
   "execution_count": 84,
   "metadata": {},
   "outputs": [
    {
     "data": {
      "text/plain": [
       "array([[14, 13, 12, 11, 10],\n",
       "       [ 9,  8,  7,  6,  5],\n",
       "       [ 4,  3,  2,  1,  0]])"
      ]
     },
     "execution_count": 84,
     "metadata": {},
     "output_type": "execute_result"
    }
   ],
   "source": [
    "x[::-1,::-1]"
   ]
  },
  {
   "cell_type": "markdown",
   "metadata": {},
   "source": [
    "#### 修改子矩阵中的元素会影响原矩阵，修改原矩阵会影响子矩阵。前提是：子矩阵是由原矩阵做切片得来的"
   ]
  },
  {
   "cell_type": "code",
   "execution_count": 86,
   "metadata": {},
   "outputs": [],
   "source": [
    "subx = x[:2,:3]"
   ]
  },
  {
   "cell_type": "code",
   "execution_count": 87,
   "metadata": {},
   "outputs": [
    {
     "data": {
      "text/plain": [
       "array([[0, 1, 2],\n",
       "       [5, 6, 7]])"
      ]
     },
     "execution_count": 87,
     "metadata": {},
     "output_type": "execute_result"
    }
   ],
   "source": [
    "subx"
   ]
  },
  {
   "cell_type": "code",
   "execution_count": 88,
   "metadata": {},
   "outputs": [
    {
     "data": {
      "text/plain": [
       "array([[100,   1,   2],\n",
       "       [  5,   6,   7]])"
      ]
     },
     "execution_count": 88,
     "metadata": {},
     "output_type": "execute_result"
    }
   ],
   "source": [
    "subx [0,0] = 100\n",
    "subx"
   ]
  },
  {
   "cell_type": "code",
   "execution_count": 89,
   "metadata": {},
   "outputs": [
    {
     "data": {
      "text/plain": [
       "array([[100,   1,   2,   3,   4],\n",
       "       [  5,   6,   7,   8,   9],\n",
       "       [ 10,  11,  12,  13,  14]])"
      ]
     },
     "execution_count": 89,
     "metadata": {},
     "output_type": "execute_result"
    }
   ],
   "source": [
    "x"
   ]
  },
  {
   "cell_type": "code",
   "execution_count": 90,
   "metadata": {},
   "outputs": [
    {
     "data": {
      "text/plain": [
       "array([[0, 1, 2],\n",
       "       [5, 6, 7]])"
      ]
     },
     "execution_count": 90,
     "metadata": {},
     "output_type": "execute_result"
    }
   ],
   "source": [
    "x[0,0] = 0\n",
    "subx"
   ]
  },
  {
   "cell_type": "code",
   "execution_count": 91,
   "metadata": {},
   "outputs": [
    {
     "data": {
      "text/plain": [
       "array([[ 0,  1,  2,  3,  4],\n",
       "       [ 5,  6,  7,  8,  9],\n",
       "       [10, 11, 12, 13, 14]])"
      ]
     },
     "execution_count": 91,
     "metadata": {},
     "output_type": "execute_result"
    }
   ],
   "source": [
    "x"
   ]
  },
  {
   "cell_type": "markdown",
   "metadata": {},
   "source": [
    "#### 使用copy函数，对x切片创建的数组就和原数组x无关了，无论两者进行什么变换都不会影响对方"
   ]
  },
  {
   "cell_type": "code",
   "execution_count": 93,
   "metadata": {},
   "outputs": [],
   "source": [
    "Sum = x[:2,:3].copy()"
   ]
  },
  {
   "cell_type": "code",
   "execution_count": 94,
   "metadata": {},
   "outputs": [
    {
     "data": {
      "text/plain": [
       "array([[0, 1, 2],\n",
       "       [5, 6, 7]])"
      ]
     },
     "execution_count": 94,
     "metadata": {},
     "output_type": "execute_result"
    }
   ],
   "source": [
    "Sum"
   ]
  },
  {
   "cell_type": "code",
   "execution_count": 95,
   "metadata": {},
   "outputs": [
    {
     "data": {
      "text/plain": [
       "array([[100,   1,   2],\n",
       "       [  5,   6,   7]])"
      ]
     },
     "execution_count": 95,
     "metadata": {},
     "output_type": "execute_result"
    }
   ],
   "source": [
    "Sum[0,0] = 100\n",
    "Sum"
   ]
  },
  {
   "cell_type": "code",
   "execution_count": 96,
   "metadata": {},
   "outputs": [
    {
     "data": {
      "text/plain": [
       "array([[ 0,  1,  2,  3,  4],\n",
       "       [ 5,  6,  7,  8,  9],\n",
       "       [10, 11, 12, 13, 14]])"
      ]
     },
     "execution_count": 96,
     "metadata": {},
     "output_type": "execute_result"
    }
   ],
   "source": [
    "x"
   ]
  },
  {
   "cell_type": "markdown",
   "metadata": {},
   "source": [
    "#### 可发现上述不再影响"
   ]
  },
  {
   "cell_type": "markdown",
   "metadata": {},
   "source": [
    "### （3）矩阵的合并和分割"
   ]
  },
  {
   "cell_type": "code",
   "execution_count": 97,
   "metadata": {},
   "outputs": [],
   "source": [
    "x = np.array([1,2,3])\n",
    "y = np.array([4,5,6])"
   ]
  },
  {
   "cell_type": "code",
   "execution_count": 98,
   "metadata": {},
   "outputs": [
    {
     "data": {
      "text/plain": [
       "array([1, 2, 3])"
      ]
     },
     "execution_count": 98,
     "metadata": {},
     "output_type": "execute_result"
    }
   ],
   "source": [
    "x"
   ]
  },
  {
   "cell_type": "code",
   "execution_count": 99,
   "metadata": {},
   "outputs": [
    {
     "data": {
      "text/plain": [
       "array([4, 5, 6])"
      ]
     },
     "execution_count": 99,
     "metadata": {},
     "output_type": "execute_result"
    }
   ],
   "source": [
    "y"
   ]
  },
  {
   "cell_type": "markdown",
   "metadata": {},
   "source": [
    "##### 合并函数：concatenate 函数"
   ]
  },
  {
   "cell_type": "code",
   "execution_count": null,
   "metadata": {},
   "outputs": [],
   "source": [
    "b = np.concatenate([x,y])"
   ]
  },
  {
   "cell_type": "code",
   "execution_count": 100,
   "metadata": {},
   "outputs": [
    {
     "data": {
      "text/plain": [
       "[0.00013687223440139729,\n",
       " 0.00014697851221578961,\n",
       " 0.00024856141891127503,\n",
       " 0.0003652273752253743,\n",
       " 0.0005210191558372435,\n",
       " 0.0005694537716833814,\n",
       " 0.0005871080998591793,\n",
       " 0.0005954595594820367,\n",
       " 0.0006266805377651563,\n",
       " 0.0007893195857983093,\n",
       " 0.0008393804038427932,\n",
       " 0.000962113858296032,\n",
       " 0.001000904907036082,\n",
       " 0.0011352087209878237,\n",
       " 0.001136870514939048,\n",
       " 0.0016213882450075712,\n",
       " 0.0016896947570934628,\n",
       " 0.0017813977597630481,\n",
       " 0.0018192769393963193,\n",
       " 0.0018599471433322634,\n",
       " 0.0019337958324890936,\n",
       " 0.0020543282021070475,\n",
       " 0.0020853655516687164,\n",
       " 0.0020903476730947945,\n",
       " 0.002093966171047179,\n",
       " 0.0022741245082934514,\n",
       " 0.0024468690646300972,\n",
       " 0.002454346928519091,\n",
       " 0.0026376234459082326,\n",
       " 0.0027419700755416665,\n",
       " 0.003018038087819419,\n",
       " 0.003259814940479222,\n",
       " 0.003552490436980027,\n",
       " 0.0035735008600651375,\n",
       " 0.003644094358967731,\n",
       " 0.0037777253443760372,\n",
       " 0.003973811427055884,\n",
       " 0.00423589934408497,\n",
       " 0.004278308557575605,\n",
       " 0.004621484020911448,\n",
       " 0.004654032922055129,\n",
       " 0.0046759689021240725,\n",
       " 0.004703151903436065,\n",
       " 0.00473009554722692,\n",
       " 0.004766174209489993,\n",
       " 0.004812737652182819,\n",
       " 0.004890188720526933,\n",
       " 0.005175708322033512,\n",
       " 0.0051998107559965145,\n",
       " 0.005208728326794976,\n",
       " 0.005456108289380812,\n",
       " 0.005594609006772222,\n",
       " 0.005693223584956386,\n",
       " 0.005937707965317118,\n",
       " 0.005959580360775485,\n",
       " 0.0060176361891955965,\n",
       " 0.006319409451753466,\n",
       " 0.006412821745952146,\n",
       " 0.006443864159485391,\n",
       " 0.006515560689938749,\n",
       " 0.006556277213126127,\n",
       " 0.00657339177178462,\n",
       " 0.006777502765308863,\n",
       " 0.007118791993015128,\n",
       " 0.007125565370267206,\n",
       " 0.00716992885675749,\n",
       " 0.007173501860924358,\n",
       " 0.007386858331130841,\n",
       " 0.0075996723574857095,\n",
       " 0.00793306569482144,\n",
       " 0.007997079960614717,\n",
       " 0.008114001766443946,\n",
       " 0.008228878874142809,\n",
       " 0.008310239890529592,\n",
       " 0.008324645677269538,\n",
       " 0.008369255072514292,\n",
       " 0.008466350759928631,\n",
       " 0.008681916751661412,\n",
       " 0.008710096080497998,\n",
       " 0.008869911594782565,\n",
       " 0.008916988625367606,\n",
       " 0.009127913036236501,\n",
       " 0.009132010671870305,\n",
       " 0.00926885779640596,\n",
       " 0.009349046084935364,\n",
       " 0.009407296276707444,\n",
       " 0.009467510492876197,\n",
       " 0.009516535371579926,\n",
       " 0.009581249819758941,\n",
       " 0.00976988489797892,\n",
       " 0.009771452569143357,\n",
       " 0.009873384529276996,\n",
       " 0.009973979919372988,\n",
       " 0.010036339828223162,\n",
       " 0.010201257170315059,\n",
       " 0.010296251292863712,\n",
       " 0.010326174251039988,\n",
       " 0.010368358725391547,\n",
       " 0.010593470602703547,\n",
       " 0.01061838615653321,\n",
       " 0.010643866756959497,\n",
       " 0.010671329934983431,\n",
       " 0.010979215074256587,\n",
       " 0.011007367174219573,\n",
       " 0.011036103190371516,\n",
       " 0.011146650244354905,\n",
       " 0.011172594322574558,\n",
       " 0.011173601501164754,\n",
       " 0.011196711476536225,\n",
       " 0.01134399710707834,\n",
       " 0.011566918865472009,\n",
       " 0.011616069707930166,\n",
       " 0.011668748537615348,\n",
       " 0.011720539445553846,\n",
       " 0.012138523736817675,\n",
       " 0.012180265375693278,\n",
       " 0.012357224601544203,\n",
       " 0.012382239923053207,\n",
       " 0.012449062986176096,\n",
       " 0.012614712988172294,\n",
       " 0.012643069522105699,\n",
       " 0.012793551125238722,\n",
       " 0.012855975718431334,\n",
       " 0.012861569786319582,\n",
       " 0.013597361997973012,\n",
       " 0.01383312808952697,\n",
       " 0.013924251437786306,\n",
       " 0.013991678626934068,\n",
       " 0.014071611089297997,\n",
       " 0.014231706549510004,\n",
       " 0.014297393086054044,\n",
       " 0.014445899025265607,\n",
       " 0.014470697474405103,\n",
       " 0.014543621243669924,\n",
       " 0.014552270530517109,\n",
       " 0.014586818118523026,\n",
       " 0.014710584586519304,\n",
       " 0.014742713630602644,\n",
       " 0.01481154788498984,\n",
       " 0.014856861960623302,\n",
       " 0.014927332830758422,\n",
       " 0.014983713389793207,\n",
       " 0.015169711051026935,\n",
       " 0.015268765793352013,\n",
       " 0.015317750553470177,\n",
       " 0.01537479433700073,\n",
       " 0.015490153594955425,\n",
       " 0.015521390476061159,\n",
       " 0.01583302949334464,\n",
       " 0.015881895757751785,\n",
       " 0.015907931735664627,\n",
       " 0.01591277218711884,\n",
       " 0.015919422419146567,\n",
       " 0.01599346971497828,\n",
       " 0.01621354923132834,\n",
       " 0.01625166240621545,\n",
       " 0.016325929463990585,\n",
       " 0.016354541233698505,\n",
       " 0.0163989038150687,\n",
       " 0.01642145054006794,\n",
       " 0.0164986866289214,\n",
       " 0.01672511561179102,\n",
       " 0.0169519577845042,\n",
       " 0.016976239088470013,\n",
       " 0.016980066807875782,\n",
       " 0.01705382285770385,\n",
       " 0.017096116855252808,\n",
       " 0.01731752051053559,\n",
       " 0.01744571626498781,\n",
       " 0.01751507566986865,\n",
       " 0.017711699560848837,\n",
       " 0.017772721241304246,\n",
       " 0.018022284279780032,\n",
       " 0.01805306260143047,\n",
       " 0.018128981367226737,\n",
       " 0.018204696473572257,\n",
       " 0.018215637185101552,\n",
       " 0.0182363504250741,\n",
       " 0.018383742257640945,\n",
       " 0.018518301494048428,\n",
       " 0.018615976341218476,\n",
       " 0.018632665106535495,\n",
       " 0.018761414437305945,\n",
       " 0.018775746150538564,\n",
       " 0.018927986532593866,\n",
       " 0.01898879516909391,\n",
       " 0.019026557692804036,\n",
       " 0.019083751822433048,\n",
       " 0.019108429135400895,\n",
       " 0.019333185079556725,\n",
       " 0.019341200021162908,\n",
       " 0.019642077177786543,\n",
       " 0.019705984243569175,\n",
       " 0.019742507299685297,\n",
       " 0.019794251543892583,\n",
       " 0.01988397654867491,\n",
       " 0.02002816596914203,\n",
       " 0.020098814970506584,\n",
       " 0.020193267635809087,\n",
       " 0.02041966050195454,\n",
       " 0.020742438757437753,\n",
       " 0.020748645451997394,\n",
       " 0.0208090416458524,\n",
       " 0.02101808771463365,\n",
       " 0.021024017145394036,\n",
       " 0.021125200080689188,\n",
       " 0.021184386058043403,\n",
       " 0.021411055841953797,\n",
       " 0.021429417880216017,\n",
       " 0.021446647924590168,\n",
       " 0.021655876580174538,\n",
       " 0.021707656525494,\n",
       " 0.021744686256024437,\n",
       " 0.021836264306914988,\n",
       " 0.021846863731260657,\n",
       " 0.02188027986602803,\n",
       " 0.02218426064548107,\n",
       " 0.022500022036433087,\n",
       " 0.022559385149970357,\n",
       " 0.022563978730227197,\n",
       " 0.022685151103385426,\n",
       " 0.023157294167204467,\n",
       " 0.023227124055642867,\n",
       " 0.023288036797766254,\n",
       " 0.02331212369770086,\n",
       " 0.023341566362058086,\n",
       " 0.023382158059248592,\n",
       " 0.023602452492597625,\n",
       " 0.023785064250982146,\n",
       " 0.023880934705422074,\n",
       " 0.023898906117041152,\n",
       " 0.023900741871344944,\n",
       " 0.02401082341600369,\n",
       " 0.02401602674632486,\n",
       " 0.024469205851503917,\n",
       " 0.02454515500539667,\n",
       " 0.024580490516044606,\n",
       " 0.024627200946185424,\n",
       " 0.024676507270406045,\n",
       " 0.024710774809821645,\n",
       " 0.024906104565366127,\n",
       " 0.02492036186577773,\n",
       " 0.02519391074317745,\n",
       " 0.025332876395700255,\n",
       " 0.025405405545942283,\n",
       " 0.025675532542823065,\n",
       " 0.02567652896868955,\n",
       " 0.025771496976287223,\n",
       " 0.025776844911067354,\n",
       " 0.02581487288079032,\n",
       " 0.025878545165545774,\n",
       " 0.025950292057900448,\n",
       " 0.025974591209072972,\n",
       " 0.025978485590263167,\n",
       " 0.025982141545010107,\n",
       " 0.02608841322503852,\n",
       " 0.02645652237429641,\n",
       " 0.026490164362838575,\n",
       " 0.026660535215507486,\n",
       " 0.026752503015446405,\n",
       " 0.02684658855320954,\n",
       " 0.02687984207975136,\n",
       " 0.026896266528987467,\n",
       " 0.02689919858106915,\n",
       " 0.027010699196563737,\n",
       " 0.027155049224987793,\n",
       " 0.027228368117371393,\n",
       " 0.02726249043844675,\n",
       " 0.0274172077160052,\n",
       " 0.027484826756129066,\n",
       " 0.027507851979491904,\n",
       " 0.027686046241449547,\n",
       " 0.027776981066762407,\n",
       " 0.027844823368820437,\n",
       " 0.028000447255101313,\n",
       " 0.028257170716893154,\n",
       " 0.028325733322709823,\n",
       " 0.028388683229261358,\n",
       " 0.028412003635762795,\n",
       " 0.02871129054932331,\n",
       " 0.028946789296382502,\n",
       " 0.029103049615310628,\n",
       " 0.029268759570421188,\n",
       " 0.029274390320679244,\n",
       " 0.029278802264495418,\n",
       " 0.02929030968218671,\n",
       " 0.029301060627849207,\n",
       " 0.029373383233887274,\n",
       " 0.029506588296034586,\n",
       " 0.029562908797680088,\n",
       " 0.02962722910465776,\n",
       " 0.029648635465147843,\n",
       " 0.029666072042704772,\n",
       " 0.029796331709633028,\n",
       " 0.029836839988188424,\n",
       " 0.029912126569262898,\n",
       " 0.030111018299909476,\n",
       " 0.030264979445263296,\n",
       " 0.030291708386784966,\n",
       " 0.030405608443563326,\n",
       " 0.030444365211407032,\n",
       " 0.030503210576556028,\n",
       " 0.030508762876289786,\n",
       " 0.030660582044126583,\n",
       " 0.0307136257274383,\n",
       " 0.03074667833271505,\n",
       " 0.030839699144856514,\n",
       " 0.03090610587233955,\n",
       " 0.030913646522827576,\n",
       " 0.030973906828793862,\n",
       " 0.030977899994579672,\n",
       " 0.03102099515015333,\n",
       " 0.031092761019550386,\n",
       " 0.031115864305024665,\n",
       " 0.031170572451650447,\n",
       " 0.031182649646743776,\n",
       " 0.031221570874315208,\n",
       " 0.031367055140256506,\n",
       " 0.031368797149552985,\n",
       " 0.031417405383004415,\n",
       " 0.03148405551998634,\n",
       " 0.03170937794965922,\n",
       " 0.031784206771353074,\n",
       " 0.03195852407605493,\n",
       " 0.03203316180345339,\n",
       " 0.032143558548552664,\n",
       " 0.03232831547688331,\n",
       " 0.03269201756357887,\n",
       " 0.03269322026869914,\n",
       " 0.032806023712186105,\n",
       " 0.032844174201599574,\n",
       " 0.03299950746396996,\n",
       " 0.03302821404075362,\n",
       " 0.03306503970214347,\n",
       " 0.03308723006059078,\n",
       " 0.03316401594139573,\n",
       " 0.03374724086099101,\n",
       " 0.033786905901538766,\n",
       " 0.03385213994275005,\n",
       " 0.033961244281258574,\n",
       " 0.033978675039042505,\n",
       " 0.034021297263337025,\n",
       " 0.034175870363459926,\n",
       " 0.03424444480207689,\n",
       " 0.03433765964560398,\n",
       " 0.03450599349068717,\n",
       " 0.0345167647431085,\n",
       " 0.03459505243259586,\n",
       " 0.0346389841108069,\n",
       " 0.03466563867978578,\n",
       " 0.03474421926837823,\n",
       " 0.03482691447544228,\n",
       " 0.03490145828590774,\n",
       " 0.03499705541202902,\n",
       " 0.03501435339150705,\n",
       " 0.035034791418787514,\n",
       " 0.03507402512002833,\n",
       " 0.03523126902924001,\n",
       " 0.03525233663418914,\n",
       " 0.03528707784649876,\n",
       " 0.0355667903802267,\n",
       " 0.035674541685072114,\n",
       " 0.03578680250830779,\n",
       " 0.035915219448261926,\n",
       " 0.03591768549053964,\n",
       " 0.035928199062488675,\n",
       " 0.03596926900262687,\n",
       " 0.0359980467595038,\n",
       " 0.03610020182824647,\n",
       " 0.036153456681142004,\n",
       " 0.03634470261297451,\n",
       " 0.03654415320363458,\n",
       " 0.03662858741945085,\n",
       " 0.03663390970200964,\n",
       " 0.03673261190844068,\n",
       " 0.036942248793653265,\n",
       " 0.03720911277596284,\n",
       " 0.03731881662802983,\n",
       " 0.03732433618876352,\n",
       " 0.03737425605643774,\n",
       " 0.03740684281128048,\n",
       " 0.037443981762383505,\n",
       " 0.03744995628344694,\n",
       " 0.037557343263031284,\n",
       " 0.03756907645000529,\n",
       " 0.03760046486394675,\n",
       " 0.037648339415507937,\n",
       " 0.03765679126610322,\n",
       " 0.03812789755955692,\n",
       " 0.03815295785197603,\n",
       " 0.03828212662221375,\n",
       " 0.03833868839221244,\n",
       " 0.038356659447687846,\n",
       " 0.03886254542605394,\n",
       " 0.038973212296748105,\n",
       " 0.039059047002660385,\n",
       " 0.039093841327599854,\n",
       " 0.03917326282036604,\n",
       " 0.039211313905872736,\n",
       " 0.039330016614712804,\n",
       " 0.03933195532869327,\n",
       " 0.039371399155429865,\n",
       " 0.03951575282058373,\n",
       " 0.0396040367791739,\n",
       " 0.03963465017441259,\n",
       " 0.03976369860298523,\n",
       " 0.03979489923389368,\n",
       " 0.039859964539362025,\n",
       " 0.03987567710478146,\n",
       " 0.04022666410348974,\n",
       " 0.04025526175944827,\n",
       " 0.04053706784654487,\n",
       " 0.04055597494480423,\n",
       " 0.040584324205120814,\n",
       " 0.04061726720550041,\n",
       " 0.040635313478076696,\n",
       " 0.04067352838781446,\n",
       " 0.040735946645304,\n",
       " 0.04086477231240837,\n",
       " 0.04097214513300507,\n",
       " 0.040997209969142356,\n",
       " 0.041006771577336676,\n",
       " 0.041119977021067955,\n",
       " 0.04128713807383344,\n",
       " 0.0412904945655469,\n",
       " 0.04137086401181378,\n",
       " 0.04152112270948538,\n",
       " 0.041542858608682676,\n",
       " 0.04163314664838791,\n",
       " 0.041759179642964495,\n",
       " 0.04181403899826319,\n",
       " 0.041815200483954706,\n",
       " 0.04212930563439388,\n",
       " 0.042151452710723625,\n",
       " 0.042155506185870495,\n",
       " 0.04217931341445991,\n",
       " 0.042296431616255514,\n",
       " 0.04237791336902352,\n",
       " 0.042425260561960054,\n",
       " 0.04243364302328734,\n",
       " 0.04257797464295743,\n",
       " 0.04259264433951848,\n",
       " 0.042669669368872065,\n",
       " 0.0427483267334311,\n",
       " 0.042752120762082235,\n",
       " 0.042870204999321926,\n",
       " 0.042934407912708306,\n",
       " 0.04294844237931772,\n",
       " 0.04317766829458436,\n",
       " 0.04323474221959567,\n",
       " 0.04331263782107009,\n",
       " 0.04338738584579582,\n",
       " 0.0434276466325868,\n",
       " 0.043601421335736745,\n",
       " 0.04360248895532648,\n",
       " 0.04406495000850219,\n",
       " 0.044097853418203825,\n",
       " 0.04415398867844711,\n",
       " 0.044266512238896105,\n",
       " 0.044330628924118654,\n",
       " 0.044383411989752375,\n",
       " 0.04498890671126743,\n",
       " 0.04503209060615043,\n",
       " 0.04507957921707717,\n",
       " 0.04532079200923955,\n",
       " 0.04532146475675647,\n",
       " 0.045403293973399594,\n",
       " 0.045515767099732596,\n",
       " 0.04554996982236925,\n",
       " 0.045668937316724945,\n",
       " 0.04568180190189908,\n",
       " 0.04579658962763411,\n",
       " 0.04586761904261738,\n",
       " 0.04587173275614209,\n",
       " 0.04589855881774996,\n",
       " 0.04592614908234094,\n",
       " 0.04595519029305761,\n",
       " 0.046085993188444196,\n",
       " 0.046288362419519835,\n",
       " 0.046300645096138626,\n",
       " 0.04639515993183796,\n",
       " 0.04641385234095774,\n",
       " 0.046434872018488504,\n",
       " 0.046738299414467055,\n",
       " 0.04714726426336102,\n",
       " 0.04728422863081161,\n",
       " 0.04734325566186148,\n",
       " 0.047502768889946534,\n",
       " 0.047565203321769056,\n",
       " 0.047631388602464186,\n",
       " 0.047643877918084665,\n",
       " 0.047666626114645116,\n",
       " 0.04778408226884323,\n",
       " 0.04794937959026513,\n",
       " 0.047973376847935456,\n",
       " 0.04819281028166933,\n",
       " 0.048278174288437725,\n",
       " 0.04830853409298608,\n",
       " 0.04840630990019057,\n",
       " 0.04856358034640895,\n",
       " 0.04864830369340556,\n",
       " 0.048657895369194515,\n",
       " 0.0488458011275088,\n",
       " 0.04887137168568212,\n",
       " 0.0488935546683974,\n",
       " 0.0489169297480041,\n",
       " 0.04898926163970818,\n",
       " 0.04905033888930821,\n",
       " 0.0491832806833753,\n",
       " 0.04919208577927414,\n",
       " 0.04928790039867026,\n",
       " 0.04932746720287473,\n",
       " 0.049688876384102576,\n",
       " 0.05012196250937906,\n",
       " 0.05017832988905757,\n",
       " 0.05018330061928489,\n",
       " 0.05020950733855678,\n",
       " 0.050340794657314,\n",
       " 0.05048146602410708,\n",
       " 0.05057023127524307,\n",
       " 0.05063646745292527,\n",
       " 0.05066200406212229,\n",
       " 0.050730063266775316,\n",
       " 0.05091339431669184,\n",
       " 0.051102726446999314,\n",
       " 0.051162469342102335,\n",
       " 0.051308634879562276,\n",
       " 0.05139961366466117,\n",
       " 0.0514455873594889,\n",
       " 0.05146469066404735,\n",
       " 0.05149601767247958,\n",
       " 0.05154701782390769,\n",
       " 0.051622777556416755,\n",
       " 0.05174448079899252,\n",
       " 0.051854774358668365,\n",
       " 0.05188298027474769,\n",
       " 0.05200326272708855,\n",
       " 0.05201806771674744,\n",
       " 0.052100032907753,\n",
       " 0.05218385622850141,\n",
       " 0.05226397297359864,\n",
       " 0.05240502206206232,\n",
       " 0.05241788336599107,\n",
       " 0.052630466866948056,\n",
       " 0.05264424880278351,\n",
       " 0.0527476095944186,\n",
       " 0.0527945212631441,\n",
       " 0.05292153615624429,\n",
       " 0.05301665461936833,\n",
       " 0.05309893137543753,\n",
       " 0.0531032760524639,\n",
       " 0.053176957543077163,\n",
       " 0.053240293100784486,\n",
       " 0.05347176942353238,\n",
       " 0.05348580735413788,\n",
       " 0.05368176564349769,\n",
       " 0.05385264564061765,\n",
       " 0.054159616381751485,\n",
       " 0.05426924517635878,\n",
       " 0.054388952031831805,\n",
       " 0.054521790871466136,\n",
       " 0.05456726111963439,\n",
       " 0.054579618000644925,\n",
       " 0.05466501162451254,\n",
       " 0.05466886395407511,\n",
       " 0.05479539071697903,\n",
       " 0.054957316514066656,\n",
       " 0.055258121014281625,\n",
       " 0.0552723141426712,\n",
       " 0.05528067212035592,\n",
       " 0.055563982671788414,\n",
       " 0.05556943120629543,\n",
       " 0.055604200716175556,\n",
       " 0.055627757291339064,\n",
       " 0.055809713039176256,\n",
       " 0.05588274054253983,\n",
       " 0.05606459012518383,\n",
       " 0.056150248185455776,\n",
       " 0.0562709899503937,\n",
       " 0.05641188626039684,\n",
       " 0.05659400836206563,\n",
       " 0.05663903763304412,\n",
       " 0.05679855582305071,\n",
       " 0.05680064980133204,\n",
       " 0.05693619815326223,\n",
       " 0.05696563304388724,\n",
       " 0.05702474682727576,\n",
       " 0.057063551733909645,\n",
       " 0.057078529519316246,\n",
       " 0.057093946317399724,\n",
       " 0.05709605078171587,\n",
       " 0.0571836987189569,\n",
       " 0.057319016886956065,\n",
       " 0.05741992925468831,\n",
       " 0.05756211003536138,\n",
       " 0.057613012409511555,\n",
       " 0.0578646435674508,\n",
       " 0.05788109737623848,\n",
       " 0.058039130578121156,\n",
       " 0.058124507170303596,\n",
       " 0.05841782787378591,\n",
       " 0.05852920960579944,\n",
       " 0.058548532175777934,\n",
       " 0.05861588554746011,\n",
       " 0.05865255258939783,\n",
       " 0.05880822428528265,\n",
       " 0.05881177012679839,\n",
       " 0.05884341794544834,\n",
       " 0.05909970441159118,\n",
       " 0.05915995664061702,\n",
       " 0.05931874703290252,\n",
       " 0.059529777345447066,\n",
       " 0.059672293233212215,\n",
       " 0.05979968427240978,\n",
       " 0.059831696853361205,\n",
       " 0.05992131769260367,\n",
       " 0.06004912935715756,\n",
       " 0.0603650478437171,\n",
       " 0.060489755396230915,\n",
       " 0.06050419767947468,\n",
       " 0.06057288066285782,\n",
       " 0.060655662746211814,\n",
       " 0.061077481424289926,\n",
       " 0.061132260022168095,\n",
       " 0.06132917839294161,\n",
       " 0.06148570355373428,\n",
       " 0.061544247597377755,\n",
       " 0.061556141293658384,\n",
       " 0.06162348297544917,\n",
       " 0.06162723857438923,\n",
       " 0.06172990206654849,\n",
       " 0.06173168424113129,\n",
       " 0.06192463227422229,\n",
       " 0.061969273087675525,\n",
       " 0.061994665381796876,\n",
       " 0.062165817717134475,\n",
       " 0.062258114652709806,\n",
       " 0.06231554326456312,\n",
       " 0.06235545393558006,\n",
       " 0.06238733122453344,\n",
       " 0.06241689174089604,\n",
       " 0.06242952264497703,\n",
       " 0.06248672568781488,\n",
       " 0.0626310570924209,\n",
       " 0.06283027015284115,\n",
       " 0.06325951694229182,\n",
       " 0.06342893387651372,\n",
       " 0.06351910449618248,\n",
       " 0.06359111328674638,\n",
       " 0.06366966839419419,\n",
       " 0.0637122242561573,\n",
       " 0.06382781036572294,\n",
       " 0.06390156659386037,\n",
       " 0.0639195960729626,\n",
       " 0.06398605759379006,\n",
       " 0.06400613614437278,\n",
       " 0.06417096731423333,\n",
       " 0.06425650252349946,\n",
       " 0.06429622822767966,\n",
       " 0.06447791113735335,\n",
       " 0.06450492331919622,\n",
       " 0.06471732477554082,\n",
       " 0.06474251457673441,\n",
       " 0.06474774884651213,\n",
       " 0.06475970898798977,\n",
       " 0.06485448496464097,\n",
       " 0.06486583127099133,\n",
       " 0.06489509284115502,\n",
       " 0.06506262644052563,\n",
       " 0.06515524025519503,\n",
       " 0.0651650363817402,\n",
       " 0.06540256948321344,\n",
       " 0.06568357412115722,\n",
       " 0.06572461925650386,\n",
       " 0.06582893436847759,\n",
       " 0.06588702021990944,\n",
       " 0.06590396635637019,\n",
       " 0.06597936062103205,\n",
       " 0.06622529530880006,\n",
       " 0.06634508193632349,\n",
       " 0.06639825383676612,\n",
       " 0.06641997176500603,\n",
       " 0.06655325072866869,\n",
       " 0.06660880591192309,\n",
       " 0.06665710839735295,\n",
       " 0.06667283328346263,\n",
       " 0.06668811849898149,\n",
       " 0.06670312983319004,\n",
       " 0.06673832448038686,\n",
       " 0.06679893390322234,\n",
       " 0.06681836866764856,\n",
       " 0.06707908094166903,\n",
       " 0.06736913874293893,\n",
       " 0.06747438980244458,\n",
       " 0.06752057524269095,\n",
       " 0.06754937622642532,\n",
       " 0.06765564456716933,\n",
       " 0.0682811127319688,\n",
       " 0.06837493134551775,\n",
       " 0.06839032562582292,\n",
       " 0.06849037592334184,\n",
       " 0.06872136360923298,\n",
       " 0.06886661626541002,\n",
       " 0.06895669073880828,\n",
       " 0.06925798559997454,\n",
       " 0.06927510458301234,\n",
       " 0.06928425738926569,\n",
       " 0.06939972944391959,\n",
       " 0.06942121104148213,\n",
       " 0.06962685944568625,\n",
       " 0.06963766493077372,\n",
       " 0.06976555846861898,\n",
       " 0.06977034062207332,\n",
       " 0.06990438546964972,\n",
       " 0.07002601346437332,\n",
       " 0.07025225246115396,\n",
       " 0.07034189476376895,\n",
       " 0.07047273660445752,\n",
       " 0.07055355490089521,\n",
       " 0.0705657489055116,\n",
       " 0.07069241875323207,\n",
       " 0.07089096164302044,\n",
       " 0.07098041780489184,\n",
       " 0.07105830082601505,\n",
       " 0.07121253243168224,\n",
       " 0.0712299442106118,\n",
       " 0.07127366912684141,\n",
       " 0.07133505909693028,\n",
       " 0.07135928023650218,\n",
       " 0.07145925244309126,\n",
       " 0.07156748651698097,\n",
       " 0.07157849114750348,\n",
       " 0.0717281953309784,\n",
       " 0.0719767022178236,\n",
       " 0.07198366848079152,\n",
       " 0.07200953968759172,\n",
       " 0.07204366225915115,\n",
       " 0.0721562337956837,\n",
       " 0.0721746839669758,\n",
       " 0.07229352093300534,\n",
       " 0.07235770572287903,\n",
       " 0.0723694004152502,\n",
       " 0.07239318630604596,\n",
       " 0.07243875706994551,\n",
       " 0.0725218256647231,\n",
       " 0.07291903431282143,\n",
       " 0.07292955772203624,\n",
       " 0.07301114219166849,\n",
       " 0.07301583665964528,\n",
       " 0.07303096732067094,\n",
       " 0.07326386751512382,\n",
       " 0.0733002860205878,\n",
       " 0.0733061908190007,\n",
       " 0.07345001377464988,\n",
       " 0.07355933667597891,\n",
       " 0.07368809224698658,\n",
       " 0.07373425200854766,\n",
       " 0.07373828106379787,\n",
       " 0.0739301933288804,\n",
       " 0.07397860412135582,\n",
       " 0.07414777251634164,\n",
       " 0.0741772857156291,\n",
       " 0.07457875625478094,\n",
       " 0.07459556638903975,\n",
       " 0.07466974341938637,\n",
       " 0.07476291827862525,\n",
       " 0.07483220117023892,\n",
       " 0.07484298913370668,\n",
       " 0.07484725423200789,\n",
       " 0.07485053701677147,\n",
       " 0.07489453439855243,\n",
       " 0.0749668647452667,\n",
       " 0.07524366222943668,\n",
       " 0.07527929445449444,\n",
       " 0.07528044331424033,\n",
       " 0.07528906716072226,\n",
       " 0.07541979193394155,\n",
       " 0.07553771144703669,\n",
       " 0.07559264720214554,\n",
       " 0.0760361080920895,\n",
       " 0.07607860060766336,\n",
       " 0.0761775279655248,\n",
       " 0.07618931356559355,\n",
       " 0.0762107708807519,\n",
       " 0.07628680529940424,\n",
       " 0.07631609231983416,\n",
       " 0.076365535058589,\n",
       " 0.07639007516014173,\n",
       " 0.07642774060269664,\n",
       " 0.0765711548080047,\n",
       " 0.07677553899525069,\n",
       " 0.07681394961671872,\n",
       " 0.07692392616614396,\n",
       " 0.07693185116563095,\n",
       " 0.07723576376112284,\n",
       " 0.07728531196733146,\n",
       " 0.07758126596731996,\n",
       " 0.07758326575720542,\n",
       " 0.07761784350127998,\n",
       " 0.07780176886200163,\n",
       " 0.0778514376204158,\n",
       " 0.07789036231969892,\n",
       " 0.07791225159245319,\n",
       " 0.07793100848963586,\n",
       " 0.0784335543273329,\n",
       " 0.07848358522327414,\n",
       " 0.07849685920335192,\n",
       " 0.07852226245362703,\n",
       " 0.078661590415393,\n",
       " 0.0787788663114084,\n",
       " 0.07901414558857878,\n",
       " 0.07906642309020162,\n",
       " 0.0790943127899898,\n",
       " 0.07909989799706729,\n",
       " 0.07943043808802042,\n",
       " 0.079521683448186,\n",
       " 0.07972828090211259,\n",
       " 0.07975632328021232,\n",
       " 0.07997820015361257,\n",
       " 0.08009540465790421,\n",
       " 0.0802086189662915,\n",
       " 0.08034691042615749,\n",
       " 0.08040910358229048,\n",
       " 0.08056382234721726,\n",
       " 0.08058678099420469,\n",
       " 0.080591825981009,\n",
       " 0.08081798750638236,\n",
       " 0.08082173665582293,\n",
       " 0.08103376164880727,\n",
       " 0.08103770084849748,\n",
       " 0.08107448204084255,\n",
       " 0.08114782106971907,\n",
       " 0.08116054452216726,\n",
       " 0.08119238688993868,\n",
       " 0.08129161685207942,\n",
       " 0.08140000326177232,\n",
       " 0.08140256767512022,\n",
       " 0.08143022612609851,\n",
       " 0.08156142341865602,\n",
       " 0.08173015353930879,\n",
       " 0.0817416174208958,\n",
       " 0.08206564384770343,\n",
       " 0.08238390603894208,\n",
       " 0.08258278852898693,\n",
       " 0.08267432901576577,\n",
       " 0.08279081953970291,\n",
       " 0.08279363882532753,\n",
       " 0.08315186866757684,\n",
       " 0.08327890111627834,\n",
       " 0.08330662811432332,\n",
       " 0.08334910810570384,\n",
       " 0.08342705553390473,\n",
       " 0.08350829819677774,\n",
       " 0.0835566478535591,\n",
       " 0.0835636166537399,\n",
       " 0.08367158892436599,\n",
       " 0.08370521378780871,\n",
       " 0.08372854246233263,\n",
       " 0.08389788412078969,\n",
       " 0.08389890953006629,\n",
       " 0.08400070694642847,\n",
       " 0.08413106943427207,\n",
       " 0.08415946086249959,\n",
       " 0.08425353071510899,\n",
       " 0.08426162715629493,\n",
       " 0.08446809718069026,\n",
       " 0.08452300636415933,\n",
       " 0.08464531796840502,\n",
       " 0.08489355446697844,\n",
       " 0.08499280011890742,\n",
       " 0.08503224970037448,\n",
       " 0.08519230062845407,\n",
       " 0.08523228220207535,\n",
       " 0.08541378018545098,\n",
       " 0.08541640401668282,\n",
       " 0.0855557645035,\n",
       " 0.08565645812342104,\n",
       " 0.0856993916771055,\n",
       " 0.085755729238285,\n",
       " 0.08582205396956555,\n",
       " 0.08591270176833443,\n",
       " 0.08603436478618531,\n",
       " 0.08608142478181335,\n",
       " 0.08615544973415545,\n",
       " 0.08626742551133282,\n",
       " 0.08635298522011536,\n",
       " 0.08638524347597065,\n",
       " 0.08642725422222497,\n",
       " 0.08644505147312431,\n",
       " 0.08657670222726721,\n",
       " 0.08666173510823505,\n",
       " 0.0867627723194705,\n",
       " 0.08679756115083803,\n",
       " 0.08684755853853021,\n",
       " 0.08686735740235185,\n",
       " 0.08695356167006918,\n",
       " 0.08703052342858164,\n",
       " 0.08705838645014718,\n",
       " 0.08712452939565296,\n",
       " 0.08729292608943251,\n",
       " 0.08738577606980669,\n",
       " 0.08740859514793653,\n",
       " 0.08748837880228111,\n",
       " 0.08749195269312615,\n",
       " 0.08817928694990917,\n",
       " 0.08881998540939684,\n",
       " 0.0889673992349036,\n",
       " 0.08903959650956073,\n",
       " 0.08917655910204048,\n",
       " 0.08930091537696239,\n",
       " 0.08932799352863363,\n",
       " 0.08934952560599019,\n",
       " 0.08946339319143837,\n",
       " 0.089526845408466,\n",
       " 0.08957565157926961,\n",
       " 0.08964147623394647,\n",
       " 0.08969096722780723,\n",
       " 0.08976973765223617,\n",
       " 0.0897722687098903,\n",
       " 0.08986251094858566,\n",
       " 0.08993676372573878,\n",
       " 0.08996044209858967,\n",
       " 0.09008541751685162,\n",
       " 0.09031329584221859,\n",
       " 0.09044878800881684,\n",
       " 0.09045270916411186,\n",
       " 0.09048660240777229,\n",
       " 0.09063682965214226,\n",
       " 0.09071028083351085,\n",
       " 0.09078958703125639,\n",
       " 0.0908150465323081,\n",
       " 0.09090975785609845,\n",
       " 0.09123790428494205,\n",
       " 0.09145841947485567,\n",
       " 0.09150551376358695,\n",
       " 0.09151197902135988,\n",
       " 0.09157653179148229,\n",
       " 0.09167346565099233,\n",
       " 0.09176782799506122,\n",
       " 0.09177502064874499,\n",
       " 0.09186706196430472,\n",
       " 0.09201598809893219,\n",
       " 0.09212639253956989,\n",
       " 0.09216480752877876,\n",
       " 0.09218691319509154,\n",
       " 0.09231684635691895,\n",
       " 0.09231807416145477,\n",
       " 0.09235051813034989,\n",
       " 0.09245639748812051,\n",
       " 0.09247085540443134,\n",
       " 0.09252322109147382,\n",
       " 0.09255370684401065,\n",
       " 0.09275875820676849,\n",
       " 0.09276321033194734,\n",
       " 0.09286001247279041,\n",
       " 0.09286358587775356,\n",
       " 0.09287985292763934,\n",
       " 0.09331932933151699,\n",
       " 0.09337498947096434,\n",
       " 0.09349097006083085,\n",
       " 0.0934962984593013,\n",
       " 0.09352860255722584,\n",
       " 0.09372155224403789,\n",
       " 0.09382929011707941,\n",
       " 0.09385989812065842,\n",
       " 0.09402337404712358,\n",
       " 0.09409947705579935,\n",
       " 0.09427636212928814,\n",
       " 0.09431912459684633,\n",
       " 0.09434822607586735,\n",
       " 0.09438820379153912,\n",
       " 0.0943883274111399,\n",
       " 0.0944234325591381,\n",
       " 0.09458580695093166,\n",
       " 0.09467621248917968,\n",
       " 0.09472129356326342,\n",
       " 0.09475297049043097,\n",
       " 0.09480796743111108,\n",
       " 0.09481949400998169,\n",
       " 0.09487798302695605,\n",
       " 0.094912898417718,\n",
       " 0.09510253289567838,\n",
       " 0.09522287692666154,\n",
       " 0.0952830229327315,\n",
       " 0.09553521981063473,\n",
       " 0.09567044754597742,\n",
       " 0.09580932442824763,\n",
       " 0.09585461903030279,\n",
       " 0.09591279743490166,\n",
       " 0.09593079985189468,\n",
       " 0.09595985707378174,\n",
       " 0.09607651380990367,\n",
       " 0.09635865543426303,\n",
       " 0.09644441240447865,\n",
       " 0.09648156355734028,\n",
       " 0.0966686307043334,\n",
       " 0.097059212412408,\n",
       " 0.09709433406191559,\n",
       " 0.09710559066674085,\n",
       " 0.09713782998185228,\n",
       " ...]"
      ]
     },
     "execution_count": 100,
     "metadata": {},
     "output_type": "execute_result"
    }
   ],
   "source": [
    "b"
   ]
  },
  {
   "cell_type": "code",
   "execution_count": 114,
   "metadata": {},
   "outputs": [],
   "source": [
    "z = np.array([10,11,12])"
   ]
  },
  {
   "cell_type": "code",
   "execution_count": 113,
   "metadata": {},
   "outputs": [
    {
     "data": {
      "text/plain": [
       "array([ 1,  2,  3,  4,  5,  6, 10, 11, 12])"
      ]
     },
     "execution_count": 113,
     "metadata": {},
     "output_type": "execute_result"
    }
   ],
   "source": [
    "np.concatenate([x,y,z])"
   ]
  },
  {
   "cell_type": "code",
   "execution_count": 111,
   "metadata": {},
   "outputs": [
    {
     "data": {
      "text/plain": [
       "array([[1, 2, 3],\n",
       "       [4, 5, 6]])"
      ]
     },
     "execution_count": 111,
     "metadata": {},
     "output_type": "execute_result"
    }
   ],
   "source": [
    "A = np.array([[1,2,3],[4,5,6]])\n",
    "A"
   ]
  },
  {
   "cell_type": "code",
   "execution_count": 103,
   "metadata": {},
   "outputs": [
    {
     "data": {
      "text/plain": [
       "array([[1, 2, 3],\n",
       "       [4, 5, 6],\n",
       "       [1, 2, 3],\n",
       "       [4, 5, 6]])"
      ]
     },
     "execution_count": 103,
     "metadata": {},
     "output_type": "execute_result"
    }
   ],
   "source": [
    "np.concatenate([A,A])"
   ]
  },
  {
   "cell_type": "markdown",
   "metadata": {},
   "source": [
    "#### 合并函数：vstack() 、 hstack（）"
   ]
  },
  {
   "cell_type": "code",
   "execution_count": 108,
   "metadata": {},
   "outputs": [
    {
     "data": {
      "text/plain": [
       "array([[ 1,  2,  3],\n",
       "       [ 4,  5,  6],\n",
       "       [10, 11, 12]])"
      ]
     },
     "execution_count": 108,
     "metadata": {},
     "output_type": "execute_result"
    }
   ],
   "source": [
    "np.vstack([A,z])"
   ]
  },
  {
   "cell_type": "code",
   "execution_count": 115,
   "metadata": {},
   "outputs": [
    {
     "ename": "ValueError",
     "evalue": "all the input arrays must have same number of dimensions",
     "output_type": "error",
     "traceback": [
      "\u001b[1;31m---------------------------------------------------------------------------\u001b[0m",
      "\u001b[1;31mValueError\u001b[0m                                Traceback (most recent call last)",
      "\u001b[1;32m<ipython-input-115-54818211901c>\u001b[0m in \u001b[0;36m<module>\u001b[1;34m()\u001b[0m\n\u001b[1;32m----> 1\u001b[1;33m \u001b[0mnp\u001b[0m\u001b[1;33m.\u001b[0m\u001b[0mhstack\u001b[0m\u001b[1;33m(\u001b[0m\u001b[1;33m[\u001b[0m\u001b[0mA\u001b[0m\u001b[1;33m,\u001b[0m\u001b[0mz\u001b[0m\u001b[1;33m]\u001b[0m\u001b[1;33m)\u001b[0m\u001b[1;33m\u001b[0m\u001b[0m\n\u001b[0m",
      "\u001b[1;32mD:\\soft\\Anaconda3\\lib\\site-packages\\numpy\\core\\shape_base.py\u001b[0m in \u001b[0;36mhstack\u001b[1;34m(tup)\u001b[0m\n\u001b[0;32m    286\u001b[0m         \u001b[1;32mreturn\u001b[0m \u001b[0m_nx\u001b[0m\u001b[1;33m.\u001b[0m\u001b[0mconcatenate\u001b[0m\u001b[1;33m(\u001b[0m\u001b[0marrs\u001b[0m\u001b[1;33m,\u001b[0m \u001b[1;36m0\u001b[0m\u001b[1;33m)\u001b[0m\u001b[1;33m\u001b[0m\u001b[0m\n\u001b[0;32m    287\u001b[0m     \u001b[1;32melse\u001b[0m\u001b[1;33m:\u001b[0m\u001b[1;33m\u001b[0m\u001b[0m\n\u001b[1;32m--> 288\u001b[1;33m         \u001b[1;32mreturn\u001b[0m \u001b[0m_nx\u001b[0m\u001b[1;33m.\u001b[0m\u001b[0mconcatenate\u001b[0m\u001b[1;33m(\u001b[0m\u001b[0marrs\u001b[0m\u001b[1;33m,\u001b[0m \u001b[1;36m1\u001b[0m\u001b[1;33m)\u001b[0m\u001b[1;33m\u001b[0m\u001b[0m\n\u001b[0m\u001b[0;32m    289\u001b[0m \u001b[1;33m\u001b[0m\u001b[0m\n\u001b[0;32m    290\u001b[0m \u001b[1;33m\u001b[0m\u001b[0m\n",
      "\u001b[1;31mValueError\u001b[0m: all the input arrays must have same number of dimensions"
     ]
    }
   ],
   "source": [
    "np.hstack([A,z])"
   ]
  },
  {
   "cell_type": "markdown",
   "metadata": {},
   "source": [
    "### 分割操作"
   ]
  },
  {
   "cell_type": "markdown",
   "metadata": {},
   "source": [
    "#### 分割函数：split"
   ]
  },
  {
   "cell_type": "code",
   "execution_count": 116,
   "metadata": {},
   "outputs": [],
   "source": [
    "x = np.arange(10)"
   ]
  },
  {
   "cell_type": "code",
   "execution_count": 117,
   "metadata": {},
   "outputs": [
    {
     "data": {
      "text/plain": [
       "array([0, 1, 2, 3, 4, 5, 6, 7, 8, 9])"
      ]
     },
     "execution_count": 117,
     "metadata": {},
     "output_type": "execute_result"
    }
   ],
   "source": [
    "x"
   ]
  },
  {
   "cell_type": "markdown",
   "metadata": {},
   "source": [
    "#### 将数据切割成三段"
   ]
  },
  {
   "cell_type": "code",
   "execution_count": 118,
   "metadata": {},
   "outputs": [],
   "source": [
    "x1, x2, x3 = np.split(x,[3,7])"
   ]
  },
  {
   "cell_type": "code",
   "execution_count": 119,
   "metadata": {},
   "outputs": [
    {
     "data": {
      "text/plain": [
       "array([0, 1, 2])"
      ]
     },
     "execution_count": 119,
     "metadata": {},
     "output_type": "execute_result"
    }
   ],
   "source": [
    "x1"
   ]
  },
  {
   "cell_type": "code",
   "execution_count": 120,
   "metadata": {},
   "outputs": [
    {
     "data": {
      "text/plain": [
       "array([3, 4, 5, 6])"
      ]
     },
     "execution_count": 120,
     "metadata": {},
     "output_type": "execute_result"
    }
   ],
   "source": [
    "x2"
   ]
  },
  {
   "cell_type": "code",
   "execution_count": 121,
   "metadata": {},
   "outputs": [
    {
     "data": {
      "text/plain": [
       "array([7, 8, 9])"
      ]
     },
     "execution_count": 121,
     "metadata": {},
     "output_type": "execute_result"
    }
   ],
   "source": [
    "x3"
   ]
  },
  {
   "cell_type": "markdown",
   "metadata": {},
   "source": [
    "#### 将数据切割成两段"
   ]
  },
  {
   "cell_type": "markdown",
   "metadata": {},
   "source": [
    "#### 一维数组"
   ]
  },
  {
   "cell_type": "code",
   "execution_count": 122,
   "metadata": {},
   "outputs": [],
   "source": [
    "y1, y2 = np.split(x,[5])"
   ]
  },
  {
   "cell_type": "code",
   "execution_count": 123,
   "metadata": {},
   "outputs": [
    {
     "data": {
      "text/plain": [
       "array([0, 1, 2, 3, 4])"
      ]
     },
     "execution_count": 123,
     "metadata": {},
     "output_type": "execute_result"
    }
   ],
   "source": [
    "y1"
   ]
  },
  {
   "cell_type": "code",
   "execution_count": 124,
   "metadata": {},
   "outputs": [
    {
     "data": {
      "text/plain": [
       "array([5, 6, 7, 8, 9])"
      ]
     },
     "execution_count": 124,
     "metadata": {},
     "output_type": "execute_result"
    }
   ],
   "source": [
    "y2"
   ]
  },
  {
   "cell_type": "markdown",
   "metadata": {},
   "source": [
    "#### 二维数组 ：在行的方向上进行分割"
   ]
  },
  {
   "cell_type": "code",
   "execution_count": 125,
   "metadata": {},
   "outputs": [
    {
     "data": {
      "text/plain": [
       "array([[ 0,  1,  2,  3,  4],\n",
       "       [ 5,  6,  7,  8,  9],\n",
       "       [10, 11, 12, 13, 14],\n",
       "       [15, 16, 17, 18, 19]])"
      ]
     },
     "execution_count": 125,
     "metadata": {},
     "output_type": "execute_result"
    }
   ],
   "source": [
    "A = np.arange(20).reshape((4,5))\n",
    "A"
   ]
  },
  {
   "cell_type": "code",
   "execution_count": 127,
   "metadata": {},
   "outputs": [],
   "source": [
    "A1, A2 = np.split(A,[2])"
   ]
  },
  {
   "cell_type": "code",
   "execution_count": 128,
   "metadata": {},
   "outputs": [
    {
     "data": {
      "text/plain": [
       "array([[0, 1, 2, 3, 4],\n",
       "       [5, 6, 7, 8, 9]])"
      ]
     },
     "execution_count": 128,
     "metadata": {},
     "output_type": "execute_result"
    }
   ],
   "source": [
    "A1"
   ]
  },
  {
   "cell_type": "code",
   "execution_count": 129,
   "metadata": {},
   "outputs": [
    {
     "data": {
      "text/plain": [
       "array([[10, 11, 12, 13, 14],\n",
       "       [15, 16, 17, 18, 19]])"
      ]
     },
     "execution_count": 129,
     "metadata": {},
     "output_type": "execute_result"
    }
   ],
   "source": [
    "A2"
   ]
  },
  {
   "cell_type": "markdown",
   "metadata": {},
   "source": [
    "#### 在列的方向上进行分割"
   ]
  },
  {
   "cell_type": "code",
   "execution_count": 130,
   "metadata": {},
   "outputs": [],
   "source": [
    "A1, A2 = np.split(A,[2], axis = 1)"
   ]
  },
  {
   "cell_type": "code",
   "execution_count": 131,
   "metadata": {},
   "outputs": [
    {
     "data": {
      "text/plain": [
       "array([[ 0,  1],\n",
       "       [ 5,  6],\n",
       "       [10, 11],\n",
       "       [15, 16]])"
      ]
     },
     "execution_count": 131,
     "metadata": {},
     "output_type": "execute_result"
    }
   ],
   "source": [
    "A1"
   ]
  },
  {
   "cell_type": "code",
   "execution_count": 132,
   "metadata": {},
   "outputs": [
    {
     "data": {
      "text/plain": [
       "array([[ 2,  3,  4],\n",
       "       [ 7,  8,  9],\n",
       "       [12, 13, 14],\n",
       "       [17, 18, 19]])"
      ]
     },
     "execution_count": 132,
     "metadata": {},
     "output_type": "execute_result"
    }
   ],
   "source": [
    "A2"
   ]
  },
  {
   "cell_type": "markdown",
   "metadata": {},
   "source": [
    "#### 二维数组： 水平方向分割：vsplit函数  垂直方向上风：hsplit函数"
   ]
  },
  {
   "cell_type": "code",
   "execution_count": 133,
   "metadata": {},
   "outputs": [],
   "source": [
    " uppper, lower = np.vsplit(A,[2])"
   ]
  },
  {
   "cell_type": "code",
   "execution_count": 134,
   "metadata": {},
   "outputs": [
    {
     "data": {
      "text/plain": [
       "array([[0, 1, 2, 3, 4],\n",
       "       [5, 6, 7, 8, 9]])"
      ]
     },
     "execution_count": 134,
     "metadata": {},
     "output_type": "execute_result"
    }
   ],
   "source": [
    "uppper"
   ]
  },
  {
   "cell_type": "code",
   "execution_count": 135,
   "metadata": {},
   "outputs": [
    {
     "data": {
      "text/plain": [
       "array([[10, 11, 12, 13, 14],\n",
       "       [15, 16, 17, 18, 19]])"
      ]
     },
     "execution_count": 135,
     "metadata": {},
     "output_type": "execute_result"
    }
   ],
   "source": [
    "lower"
   ]
  },
  {
   "cell_type": "code",
   "execution_count": 136,
   "metadata": {},
   "outputs": [],
   "source": [
    "uppper, lower = np.hsplit(A,[2])"
   ]
  },
  {
   "cell_type": "code",
   "execution_count": 137,
   "metadata": {},
   "outputs": [
    {
     "data": {
      "text/plain": [
       "array([[ 0,  1],\n",
       "       [ 5,  6],\n",
       "       [10, 11],\n",
       "       [15, 16]])"
      ]
     },
     "execution_count": 137,
     "metadata": {},
     "output_type": "execute_result"
    }
   ],
   "source": [
    "uppper"
   ]
  },
  {
   "cell_type": "code",
   "execution_count": 138,
   "metadata": {},
   "outputs": [
    {
     "data": {
      "text/plain": [
       "array([[ 2,  3,  4],\n",
       "       [ 7,  8,  9],\n",
       "       [12, 13, 14],\n",
       "       [17, 18, 19]])"
      ]
     },
     "execution_count": 138,
     "metadata": {},
     "output_type": "execute_result"
    }
   ],
   "source": [
    "lower"
   ]
  },
  {
   "cell_type": "markdown",
   "metadata": {},
   "source": [
    "### 数组的分割，在机器学习处理数据时，对数据和标签进行分割"
   ]
  },
  {
   "cell_type": "code",
   "execution_count": 139,
   "metadata": {},
   "outputs": [],
   "source": [
    "x, y = np.hsplit(A,[-1])"
   ]
  },
  {
   "cell_type": "code",
   "execution_count": 140,
   "metadata": {},
   "outputs": [
    {
     "data": {
      "text/plain": [
       "array([[ 0,  1,  2,  3],\n",
       "       [ 5,  6,  7,  8],\n",
       "       [10, 11, 12, 13],\n",
       "       [15, 16, 17, 18]])"
      ]
     },
     "execution_count": 140,
     "metadata": {},
     "output_type": "execute_result"
    }
   ],
   "source": [
    "x"
   ]
  },
  {
   "cell_type": "code",
   "execution_count": 141,
   "metadata": {},
   "outputs": [
    {
     "data": {
      "text/plain": [
       "array([[ 4],\n",
       "       [ 9],\n",
       "       [14],\n",
       "       [19]])"
      ]
     },
     "execution_count": 141,
     "metadata": {},
     "output_type": "execute_result"
    }
   ],
   "source": [
    "y"
   ]
  },
  {
   "cell_type": "markdown",
   "metadata": {},
   "source": [
    "#### 此处x相当于是数据，y是对应的标签"
   ]
  },
  {
   "cell_type": "markdown",
   "metadata": {},
   "source": [
    "##  (4)、numpy的矩阵运算"
   ]
  },
  {
   "cell_type": "markdown",
   "metadata": {},
   "source": [
    "### 1）numpy的矩阵和数之间的运算"
   ]
  },
  {
   "cell_type": "code",
   "execution_count": 142,
   "metadata": {},
   "outputs": [],
   "source": [
    "n = 1000000\n",
    "L = [i for i in range(n)]"
   ]
  },
  {
   "cell_type": "markdown",
   "metadata": {},
   "source": [
    "#### 方式一： 循环的方法"
   ]
  },
  {
   "cell_type": "code",
   "execution_count": 143,
   "metadata": {},
   "outputs": [
    {
     "name": "stdout",
     "output_type": "stream",
     "text": [
      "Wall time: 141 ms\n"
     ]
    }
   ],
   "source": [
    "%%time\n",
    "A= []\n",
    "for e in L:\n",
    "    A.append(2*e)"
   ]
  },
  {
   "cell_type": "markdown",
   "metadata": {},
   "source": [
    "#### 方法二：使用生成表达式"
   ]
  },
  {
   "cell_type": "code",
   "execution_count": 144,
   "metadata": {},
   "outputs": [
    {
     "name": "stdout",
     "output_type": "stream",
     "text": [
      "Wall time: 87.5 ms\n"
     ]
    }
   ],
   "source": [
    "%%time\n",
    "A = [2*e for e in L]"
   ]
  },
  {
   "cell_type": "markdown",
   "metadata": {},
   "source": [
    "#### 方法三：使用numpy结合生成表达式"
   ]
  },
  {
   "cell_type": "code",
   "execution_count": 145,
   "metadata": {},
   "outputs": [],
   "source": [
    "import numpy as np\n",
    "L = np.arange(n)"
   ]
  },
  {
   "cell_type": "code",
   "execution_count": 146,
   "metadata": {},
   "outputs": [
    {
     "name": "stdout",
     "output_type": "stream",
     "text": [
      "Wall time: 15.9 ms\n"
     ]
    }
   ],
   "source": [
    "%%time\n",
    "A = np.array(2*e for e in L)"
   ]
  },
  {
   "cell_type": "markdown",
   "metadata": {},
   "source": [
    "#### 方法四：（更快的，但是在python基本语法中不支持）将每一个数组看成向量或者矩阵"
   ]
  },
  {
   "cell_type": "code",
   "execution_count": 147,
   "metadata": {},
   "outputs": [
    {
     "name": "stdout",
     "output_type": "stream",
     "text": [
      "Wall time: 2.66 ms\n"
     ]
    }
   ],
   "source": [
    "%%time\n",
    "A = 2 * L"
   ]
  },
  {
   "cell_type": "code",
   "execution_count": 148,
   "metadata": {},
   "outputs": [
    {
     "data": {
      "text/plain": [
       "array([      0,       2,       4, ..., 1999994, 1999996, 1999998])"
      ]
     },
     "execution_count": 148,
     "metadata": {},
     "output_type": "execute_result"
    }
   ],
   "source": [
    "A"
   ]
  },
  {
   "cell_type": "markdown",
   "metadata": {},
   "source": [
    "### 2）矩阵之间的运算"
   ]
  },
  {
   "cell_type": "code",
   "execution_count": 149,
   "metadata": {},
   "outputs": [
    {
     "data": {
      "text/plain": [
       "array([[ 0,  1,  2,  3],\n",
       "       [ 4,  5,  6,  7],\n",
       "       [ 8,  9, 10, 11],\n",
       "       [12, 13, 14, 15]])"
      ]
     },
     "execution_count": 149,
     "metadata": {},
     "output_type": "execute_result"
    }
   ],
   "source": [
    "A = np.arange(16).reshape(4,4)\n",
    "A"
   ]
  },
  {
   "cell_type": "code",
   "execution_count": 150,
   "metadata": {},
   "outputs": [
    {
     "data": {
      "text/plain": [
       "array([[10, 10, 10, 10],\n",
       "       [10, 10, 10, 10],\n",
       "       [10, 10, 10, 10],\n",
       "       [10, 10, 10, 10]])"
      ]
     },
     "execution_count": 150,
     "metadata": {},
     "output_type": "execute_result"
    }
   ],
   "source": [
    "B = np.full((4,4),10)\n",
    "B"
   ]
  },
  {
   "cell_type": "code",
   "execution_count": 151,
   "metadata": {},
   "outputs": [
    {
     "data": {
      "text/plain": [
       "array([[10, 11, 12, 13],\n",
       "       [14, 15, 16, 17],\n",
       "       [18, 19, 20, 21],\n",
       "       [22, 23, 24, 25]])"
      ]
     },
     "execution_count": 151,
     "metadata": {},
     "output_type": "execute_result"
    }
   ],
   "source": [
    "A + B"
   ]
  },
  {
   "cell_type": "code",
   "execution_count": 152,
   "metadata": {},
   "outputs": [
    {
     "data": {
      "text/plain": [
       "array([[-10,  -9,  -8,  -7],\n",
       "       [ -6,  -5,  -4,  -3],\n",
       "       [ -2,  -1,   0,   1],\n",
       "       [  2,   3,   4,   5]])"
      ]
     },
     "execution_count": 152,
     "metadata": {},
     "output_type": "execute_result"
    }
   ],
   "source": [
    "A - B"
   ]
  },
  {
   "cell_type": "code",
   "execution_count": 153,
   "metadata": {},
   "outputs": [
    {
     "data": {
      "text/plain": [
       "array([[  0,  10,  20,  30],\n",
       "       [ 40,  50,  60,  70],\n",
       "       [ 80,  90, 100, 110],\n",
       "       [120, 130, 140, 150]])"
      ]
     },
     "execution_count": 153,
     "metadata": {},
     "output_type": "execute_result"
    }
   ],
   "source": [
    "A * B"
   ]
  },
  {
   "cell_type": "code",
   "execution_count": 154,
   "metadata": {},
   "outputs": [
    {
     "data": {
      "text/plain": [
       "array([[0. , 0.1, 0.2, 0.3],\n",
       "       [0.4, 0.5, 0.6, 0.7],\n",
       "       [0.8, 0.9, 1. , 1.1],\n",
       "       [1.2, 1.3, 1.4, 1.5]])"
      ]
     },
     "execution_count": 154,
     "metadata": {},
     "output_type": "execute_result"
    }
   ],
   "source": [
    "A / B"
   ]
  },
  {
   "cell_type": "code",
   "execution_count": 155,
   "metadata": {},
   "outputs": [
    {
     "data": {
      "text/plain": [
       "array([[ 0,  4,  8, 12],\n",
       "       [ 1,  5,  9, 13],\n",
       "       [ 2,  6, 10, 14],\n",
       "       [ 3,  7, 11, 15]])"
      ]
     },
     "execution_count": 155,
     "metadata": {},
     "output_type": "execute_result"
    }
   ],
   "source": [
    "#矩阵A的转置\n",
    "A.T"
   ]
  },
  {
   "cell_type": "code",
   "execution_count": 156,
   "metadata": {},
   "outputs": [
    {
     "data": {
      "text/plain": [
       "array([1, 2, 3, 4])"
      ]
     },
     "execution_count": 156,
     "metadata": {},
     "output_type": "execute_result"
    }
   ],
   "source": [
    "v = np.array([1,2,3,4])\n",
    "v"
   ]
  },
  {
   "cell_type": "code",
   "execution_count": 157,
   "metadata": {},
   "outputs": [
    {
     "data": {
      "text/plain": [
       "array([ 80,  90, 100, 110])"
      ]
     },
     "execution_count": 157,
     "metadata": {},
     "output_type": "execute_result"
    }
   ],
   "source": [
    "v.dot(A)"
   ]
  },
  {
   "cell_type": "code",
   "execution_count": 158,
   "metadata": {
    "scrolled": true
   },
   "outputs": [
    {
     "data": {
      "text/plain": [
       "array([ 20,  60, 100, 140])"
      ]
     },
     "execution_count": 158,
     "metadata": {},
     "output_type": "execute_result"
    }
   ],
   "source": [
    "A.dot(v)"
   ]
  },
  {
   "cell_type": "markdown",
   "metadata": {},
   "source": [
    "### 3)矩阵逆的运算(矩阵要是一个方阵，或者不满足方阵，则是求这个矩阵的伪逆矩阵)"
   ]
  },
  {
   "cell_type": "code",
   "execution_count": 159,
   "metadata": {},
   "outputs": [],
   "source": [
    "invA = np.linalg.inv(A)"
   ]
  },
  {
   "cell_type": "code",
   "execution_count": 160,
   "metadata": {},
   "outputs": [
    {
     "data": {
      "text/plain": [
       "array([[ 9.00719925e+14, -4.50359963e+14, -1.80143985e+15,\n",
       "         1.35107989e+15],\n",
       "       [-2.40191980e+15,  2.70215978e+15,  1.80143985e+15,\n",
       "        -2.10167983e+15],\n",
       "       [ 2.10167983e+15, -4.05323966e+15,  1.80143985e+15,\n",
       "         1.50119988e+14],\n",
       "       [-6.00479950e+14,  1.80143985e+15, -1.80143985e+15,\n",
       "         6.00479950e+14]])"
      ]
     },
     "execution_count": 160,
     "metadata": {},
     "output_type": "execute_result"
    }
   ],
   "source": [
    "invA"
   ]
  },
  {
   "cell_type": "code",
   "execution_count": 161,
   "metadata": {},
   "outputs": [
    {
     "data": {
      "text/plain": [
       "array([[ 1.5   , -1.    ,  0.5   , -0.1875],\n",
       "       [ 0.    ,  0.    ,  0.5   ,  0.    ],\n",
       "       [ 0.    ,  0.    , -0.5   ,  0.    ],\n",
       "       [ 0.    ,  8.    , -2.5   ,  4.    ]])"
      ]
     },
     "execution_count": 161,
     "metadata": {},
     "output_type": "execute_result"
    }
   ],
   "source": [
    "A.dot(invA)"
   ]
  },
  {
   "cell_type": "markdown",
   "metadata": {},
   "source": [
    "#### 伪逆矩阵"
   ]
  },
  {
   "cell_type": "code",
   "execution_count": 162,
   "metadata": {},
   "outputs": [
    {
     "data": {
      "text/plain": [
       "array([[ 0,  1,  2,  3],\n",
       "       [ 4,  5,  6,  7],\n",
       "       [ 8,  9, 10, 11]])"
      ]
     },
     "execution_count": 162,
     "metadata": {},
     "output_type": "execute_result"
    }
   ],
   "source": [
    "C = np.arange(12).reshape(3,4)\n",
    "C"
   ]
  },
  {
   "cell_type": "code",
   "execution_count": 163,
   "metadata": {},
   "outputs": [
    {
     "data": {
      "text/plain": [
       "array([[-0.3375    , -0.1       ,  0.1375    ],\n",
       "       [-0.13333333, -0.03333333,  0.06666667],\n",
       "       [ 0.07083333,  0.03333333, -0.00416667],\n",
       "       [ 0.275     ,  0.1       , -0.075     ]])"
      ]
     },
     "execution_count": 163,
     "metadata": {},
     "output_type": "execute_result"
    }
   ],
   "source": [
    "pinvC = np.linalg.pinv(C)\n",
    "pinvC"
   ]
  },
  {
   "cell_type": "code",
   "execution_count": 164,
   "metadata": {},
   "outputs": [
    {
     "data": {
      "text/plain": [
       "(4, 3)"
      ]
     },
     "execution_count": 164,
     "metadata": {},
     "output_type": "execute_result"
    }
   ],
   "source": [
    "pinvC.shape"
   ]
  },
  {
   "cell_type": "code",
   "execution_count": 165,
   "metadata": {},
   "outputs": [
    {
     "data": {
      "text/plain": [
       "array([[ 0.83333333,  0.33333333, -0.16666667],\n",
       "       [ 0.33333333,  0.33333333,  0.33333333],\n",
       "       [-0.16666667,  0.33333333,  0.83333333]])"
      ]
     },
     "execution_count": 165,
     "metadata": {},
     "output_type": "execute_result"
    }
   ],
   "source": [
    "C.dot(pinvC)"
   ]
  },
  {
   "cell_type": "markdown",
   "metadata": {},
   "source": [
    "## （5）、numpy的聚合操作"
   ]
  },
  {
   "cell_type": "markdown",
   "metadata": {},
   "source": [
    "### 1）、一些统计值的计算"
   ]
  },
  {
   "cell_type": "markdown",
   "metadata": {},
   "source": [
    "## （6）、索引"
   ]
  },
  {
   "cell_type": "code",
   "execution_count": 166,
   "metadata": {},
   "outputs": [],
   "source": [
    "x = np.random.normal(0,1,size=1000000)"
   ]
  },
  {
   "cell_type": "code",
   "execution_count": 167,
   "metadata": {},
   "outputs": [
    {
     "data": {
      "text/plain": [
       "0.000557474804493473"
      ]
     },
     "execution_count": 167,
     "metadata": {},
     "output_type": "execute_result"
    }
   ],
   "source": [
    "np.mean(x)"
   ]
  },
  {
   "cell_type": "code",
   "execution_count": 168,
   "metadata": {},
   "outputs": [
    {
     "data": {
      "text/plain": [
       "1.0006499069334125"
      ]
     },
     "execution_count": 168,
     "metadata": {},
     "output_type": "execute_result"
    }
   ],
   "source": [
    "np.std(x)"
   ]
  },
  {
   "cell_type": "code",
   "execution_count": 169,
   "metadata": {},
   "outputs": [
    {
     "data": {
      "text/plain": [
       "-4.791140879600926"
      ]
     },
     "execution_count": 169,
     "metadata": {},
     "output_type": "execute_result"
    }
   ],
   "source": [
    "np.min(x)"
   ]
  },
  {
   "cell_type": "markdown",
   "metadata": {},
   "source": [
    "#### 得到索引值，arg运算"
   ]
  },
  {
   "cell_type": "code",
   "execution_count": 170,
   "metadata": {},
   "outputs": [
    {
     "data": {
      "text/plain": [
       "613851"
      ]
     },
     "execution_count": 170,
     "metadata": {},
     "output_type": "execute_result"
    }
   ],
   "source": [
    "np.argmin(x)"
   ]
  },
  {
   "cell_type": "code",
   "execution_count": 171,
   "metadata": {},
   "outputs": [
    {
     "data": {
      "text/plain": [
       "-4.791140879600926"
      ]
     },
     "execution_count": 171,
     "metadata": {},
     "output_type": "execute_result"
    }
   ],
   "source": [
    "x[613851]"
   ]
  },
  {
   "cell_type": "code",
   "execution_count": 172,
   "metadata": {},
   "outputs": [
    {
     "data": {
      "text/plain": [
       "680055"
      ]
     },
     "execution_count": 172,
     "metadata": {},
     "output_type": "execute_result"
    }
   ],
   "source": [
    "np.argmax(x)"
   ]
  },
  {
   "cell_type": "code",
   "execution_count": 173,
   "metadata": {},
   "outputs": [
    {
     "data": {
      "text/plain": [
       "4.650412776153071"
      ]
     },
     "execution_count": 173,
     "metadata": {},
     "output_type": "execute_result"
    }
   ],
   "source": [
    "x[680055]"
   ]
  },
  {
   "cell_type": "markdown",
   "metadata": {},
   "source": [
    "### 1)、排序和使用索引"
   ]
  },
  {
   "cell_type": "markdown",
   "metadata": {},
   "source": [
    "#### 先定义一个数组"
   ]
  },
  {
   "cell_type": "code",
   "execution_count": 174,
   "metadata": {},
   "outputs": [
    {
     "data": {
      "text/plain": [
       "array([ 0,  1,  2,  3,  4,  5,  6,  7,  8,  9, 10, 11, 12, 13, 14, 15])"
      ]
     },
     "execution_count": 174,
     "metadata": {},
     "output_type": "execute_result"
    }
   ],
   "source": [
    "import numpy as np\n",
    "x = np.arange(16)\n",
    "x"
   ]
  },
  {
   "cell_type": "markdown",
   "metadata": {},
   "source": [
    "#### 使用numpy中的shuffle函数对其进行乱序操作"
   ]
  },
  {
   "cell_type": "code",
   "execution_count": 175,
   "metadata": {},
   "outputs": [
    {
     "data": {
      "text/plain": [
       "array([ 4,  3, 12,  7, 10,  1,  2,  8,  9, 11,  6, 13, 15,  5, 14,  0])"
      ]
     },
     "execution_count": 175,
     "metadata": {},
     "output_type": "execute_result"
    }
   ],
   "source": [
    "np.random.shuffle(x)\n",
    "x"
   ]
  },
  {
   "cell_type": "markdown",
   "metadata": {},
   "source": [
    "#### 使用sort函数对其进行升序排序，但是x本身并没有排序。"
   ]
  },
  {
   "cell_type": "code",
   "execution_count": 176,
   "metadata": {},
   "outputs": [
    {
     "data": {
      "text/plain": [
       "array([ 0,  1,  2,  3,  4,  5,  6,  7,  8,  9, 10, 11, 12, 13, 14, 15])"
      ]
     },
     "execution_count": 176,
     "metadata": {},
     "output_type": "execute_result"
    }
   ],
   "source": [
    "y = np.sort(x)\n",
    "y"
   ]
  },
  {
   "cell_type": "markdown",
   "metadata": {},
   "source": [
    "#### 直接对x使用sort函数，则x本身进行了排序"
   ]
  },
  {
   "cell_type": "code",
   "execution_count": 53,
   "metadata": {},
   "outputs": [
    {
     "data": {
      "text/plain": [
       "array([ 0,  1,  2,  3,  4,  5,  6,  7,  8,  9, 10, 11, 12, 13, 14, 15])"
      ]
     },
     "execution_count": 53,
     "metadata": {},
     "output_type": "execute_result"
    }
   ],
   "source": [
    "x.sort()\n",
    "x"
   ]
  },
  {
   "cell_type": "markdown",
   "metadata": {},
   "source": [
    "#### 对矩阵进行排序"
   ]
  },
  {
   "cell_type": "code",
   "execution_count": 177,
   "metadata": {},
   "outputs": [
    {
     "data": {
      "text/plain": [
       "array([[2, 2, 8, 8],\n",
       "       [4, 1, 6, 1],\n",
       "       [8, 3, 8, 6],\n",
       "       [9, 1, 0, 6]])"
      ]
     },
     "execution_count": 177,
     "metadata": {},
     "output_type": "execute_result"
    }
   ],
   "source": [
    "y = np.random.randint(10,size=(4,4))\n",
    "y"
   ]
  },
  {
   "cell_type": "markdown",
   "metadata": {},
   "source": [
    "##### 默认是沿着列的方向上进行排序，也就是 axis=1，最后结果是每一行都是有序的"
   ]
  },
  {
   "cell_type": "code",
   "execution_count": 178,
   "metadata": {},
   "outputs": [
    {
     "data": {
      "text/plain": [
       "array([[2, 2, 8, 8],\n",
       "       [1, 1, 4, 6],\n",
       "       [3, 6, 8, 8],\n",
       "       [0, 1, 6, 9]])"
      ]
     },
     "execution_count": 178,
     "metadata": {},
     "output_type": "execute_result"
    }
   ],
   "source": [
    "np.sort(y)"
   ]
  },
  {
   "cell_type": "code",
   "execution_count": 179,
   "metadata": {},
   "outputs": [
    {
     "data": {
      "text/plain": [
       "array([[2, 2, 8, 8],\n",
       "       [1, 1, 4, 6],\n",
       "       [3, 6, 8, 8],\n",
       "       [0, 1, 6, 9]])"
      ]
     },
     "execution_count": 179,
     "metadata": {},
     "output_type": "execute_result"
    }
   ],
   "source": [
    "np.sort(y,axis = 1)"
   ]
  },
  {
   "cell_type": "markdown",
   "metadata": {},
   "source": [
    "##### 设置axis = 0，表示沿着行的方向上进行排序，最终结果是每一列都是有序的"
   ]
  },
  {
   "cell_type": "code",
   "execution_count": 180,
   "metadata": {},
   "outputs": [
    {
     "data": {
      "text/plain": [
       "array([[2, 1, 0, 1],\n",
       "       [4, 1, 6, 6],\n",
       "       [8, 2, 8, 6],\n",
       "       [9, 3, 8, 8]])"
      ]
     },
     "execution_count": 180,
     "metadata": {},
     "output_type": "execute_result"
    }
   ],
   "source": [
    "np.sort(y,axis = 0)"
   ]
  },
  {
   "cell_type": "markdown",
   "metadata": {},
   "source": [
    "#### 使用argsort函数排序，显示结果是每个元素索引对应的值"
   ]
  },
  {
   "cell_type": "code",
   "execution_count": 181,
   "metadata": {},
   "outputs": [
    {
     "data": {
      "text/plain": [
       "array([ 4,  3, 12,  7, 10,  1,  2,  8,  9, 11,  6, 13, 15,  5, 14,  0])"
      ]
     },
     "execution_count": 181,
     "metadata": {},
     "output_type": "execute_result"
    }
   ],
   "source": [
    "x"
   ]
  },
  {
   "cell_type": "code",
   "execution_count": 182,
   "metadata": {},
   "outputs": [],
   "source": [
    "np.random.shuffle(x)"
   ]
  },
  {
   "cell_type": "code",
   "execution_count": 183,
   "metadata": {},
   "outputs": [
    {
     "data": {
      "text/plain": [
       "array([ 6, 12,  9,  1, 10, 13,  4, 11, 15,  2,  3, 14,  8,  7,  0,  5])"
      ]
     },
     "execution_count": 183,
     "metadata": {},
     "output_type": "execute_result"
    }
   ],
   "source": [
    "x"
   ]
  },
  {
   "cell_type": "code",
   "execution_count": 184,
   "metadata": {},
   "outputs": [
    {
     "data": {
      "text/plain": [
       "array([14,  3,  9, 10,  6, 15,  0, 13, 12,  2,  4,  7,  1,  5, 11,  8],\n",
       "      dtype=int64)"
      ]
     },
     "execution_count": 184,
     "metadata": {},
     "output_type": "execute_result"
    }
   ],
   "source": [
    "np.argsort(x)"
   ]
  },
  {
   "cell_type": "markdown",
   "metadata": {},
   "source": [
    "##### 上述显示的是每个排好序元素的索引值，例如，0在第14位置上"
   ]
  },
  {
   "cell_type": "markdown",
   "metadata": {},
   "source": [
    "#### 快速排序中的partition操作，即设定一个值，在这个值左侧的元素都比这个值小，在这个值右侧的元素都比这个值大！"
   ]
  },
  {
   "cell_type": "code",
   "execution_count": 185,
   "metadata": {},
   "outputs": [
    {
     "data": {
      "text/plain": [
       "array([ 4,  5,  0,  1,  3,  2,  6,  7,  8, 11, 10,  9, 12, 15, 13, 14])"
      ]
     },
     "execution_count": 185,
     "metadata": {},
     "output_type": "execute_result"
    }
   ],
   "source": [
    "np.partition(x,8)"
   ]
  },
  {
   "cell_type": "markdown",
   "metadata": {},
   "source": [
    "#### 使用argpartition进行操作，显示的是分割后元素对应索引值的表现形式，8对应的索引值是7"
   ]
  },
  {
   "cell_type": "code",
   "execution_count": 186,
   "metadata": {},
   "outputs": [
    {
     "data": {
      "text/plain": [
       "array([ 6, 15, 14,  3, 10,  9,  0, 13, 12,  7,  4,  2,  1,  8,  5, 11],\n",
       "      dtype=int64)"
      ]
     },
     "execution_count": 186,
     "metadata": {},
     "output_type": "execute_result"
    }
   ],
   "source": [
    "np.argpartition(x,8)"
   ]
  },
  {
   "cell_type": "markdown",
   "metadata": {},
   "source": [
    "## （7）Fancy Indexing--------传递索引数组以便一次得到多个数组元素"
   ]
  },
  {
   "cell_type": "code",
   "execution_count": 187,
   "metadata": {},
   "outputs": [
    {
     "data": {
      "text/plain": [
       "array([0, 1, 2, 3, 4, 5, 6, 7, 8, 9])"
      ]
     },
     "execution_count": 187,
     "metadata": {},
     "output_type": "execute_result"
    }
   ],
   "source": [
    "import numpy as  np\n",
    "x = np.arange(10)\n",
    "x"
   ]
  },
  {
   "cell_type": "code",
   "execution_count": 193,
   "metadata": {},
   "outputs": [
    {
     "data": {
      "text/plain": [
       "array([4, 1, 7, 6, 9, 2, 3, 5, 8, 0])"
      ]
     },
     "execution_count": 193,
     "metadata": {},
     "output_type": "execute_result"
    }
   ],
   "source": [
    "np.random.shuffle(x)\n",
    "x"
   ]
  },
  {
   "cell_type": "code",
   "execution_count": 194,
   "metadata": {},
   "outputs": [
    {
     "data": {
      "text/plain": [
       "7"
      ]
     },
     "execution_count": 194,
     "metadata": {},
     "output_type": "execute_result"
    }
   ],
   "source": [
    "x[2]"
   ]
  },
  {
   "cell_type": "code",
   "execution_count": 195,
   "metadata": {},
   "outputs": [
    {
     "data": {
      "text/plain": [
       "array([6, 9, 2, 3, 5, 8])"
      ]
     },
     "execution_count": 195,
     "metadata": {},
     "output_type": "execute_result"
    }
   ],
   "source": [
    "x[3:9]"
   ]
  },
  {
   "cell_type": "code",
   "execution_count": 196,
   "metadata": {},
   "outputs": [
    {
     "data": {
      "text/plain": [
       "array([6, 3])"
      ]
     },
     "execution_count": 196,
     "metadata": {},
     "output_type": "execute_result"
    }
   ],
   "source": [
    "x[3:9:3]"
   ]
  },
  {
   "cell_type": "markdown",
   "metadata": {},
   "source": [
    "##### 1）、如果想找到0，1，8这三个值，使用切片和单个索引恐怕做不到。numpy提供了如下的方式，他将元素对应的索引放到一个列表中"
   ]
  },
  {
   "cell_type": "code",
   "execution_count": 199,
   "metadata": {},
   "outputs": [
    {
     "data": {
      "text/plain": [
       "array([4, 1, 8])"
      ]
     },
     "execution_count": 199,
     "metadata": {},
     "output_type": "execute_result"
    }
   ],
   "source": [
    "#向量的形式\n",
    "#索引值\n",
    "ind = [0,1,8]\n",
    "x[ind]"
   ]
  },
  {
   "cell_type": "code",
   "execution_count": 201,
   "metadata": {},
   "outputs": [
    {
     "data": {
      "text/plain": [
       "array([[4, 1],\n",
       "       [6, 2]])"
      ]
     },
     "execution_count": 201,
     "metadata": {},
     "output_type": "execute_result"
    }
   ],
   "source": [
    "#二维数组的形式\n",
    "#0，1，3，5为索引值\n",
    "ind1 = np.array([[0,1],\n",
    "                [3,5]])\n",
    "x[ind1]"
   ]
  },
  {
   "cell_type": "markdown",
   "metadata": {},
   "source": [
    "##### 二维数组的形式，使用索引找到想要的元素,这里是找到想要的三个元素"
   ]
  },
  {
   "cell_type": "code",
   "execution_count": 208,
   "metadata": {},
   "outputs": [
    {
     "data": {
      "text/plain": [
       "array([[ 0,  1, 14, 14],\n",
       "       [ 1,  4,  1,  8],\n",
       "       [15,  9, 10,  3],\n",
       "       [ 9,  4,  7,  1]])"
      ]
     },
     "execution_count": 208,
     "metadata": {},
     "output_type": "execute_result"
    }
   ],
   "source": [
    "y = np.random.randint(16,size=(4,4))\n",
    "y"
   ]
  },
  {
   "cell_type": "code",
   "execution_count": 209,
   "metadata": {},
   "outputs": [
    {
     "data": {
      "text/plain": [
       "array([1, 1, 3])"
      ]
     },
     "execution_count": 209,
     "metadata": {},
     "output_type": "execute_result"
    }
   ],
   "source": [
    "row = np.array([0,1,2])\n",
    "col = np.array([1,2,3])\n",
    "y[row,col]"
   ]
  },
  {
   "cell_type": "code",
   "execution_count": 212,
   "metadata": {},
   "outputs": [
    {
     "data": {
      "text/plain": [
       "array([ 1, 14, 14])"
      ]
     },
     "execution_count": 212,
     "metadata": {},
     "output_type": "execute_result"
    }
   ],
   "source": [
    "#对第一行感兴趣，索引第一行，col位置上的元素\n",
    "y[0,col]"
   ]
  },
  {
   "cell_type": "code",
   "execution_count": 211,
   "metadata": {},
   "outputs": [
    {
     "data": {
      "text/plain": [
       "array([[ 1, 14, 14],\n",
       "       [ 4,  1,  8]])"
      ]
     },
     "execution_count": 211,
     "metadata": {},
     "output_type": "execute_result"
    }
   ],
   "source": [
    "#对前两行感兴趣，故索引前两行\n",
    "y[:2,col]"
   ]
  },
  {
   "cell_type": "markdown",
   "metadata": {},
   "source": [
    "#### 2)、使用布尔数组作为索引，得到相应的值------此种方法很重要"
   ]
  },
  {
   "cell_type": "code",
   "execution_count": 213,
   "metadata": {},
   "outputs": [
    {
     "data": {
      "text/plain": [
       "array([[ 2,  3,  6, 11],\n",
       "       [15,  4, 14, 11],\n",
       "       [ 5, 11,  7,  9],\n",
       "       [ 3,  3,  6,  4]])"
      ]
     },
     "execution_count": 213,
     "metadata": {},
     "output_type": "execute_result"
    }
   ],
   "source": [
    "y = np.random.randint(16,size=(4,4))\n",
    "y"
   ]
  },
  {
   "cell_type": "code",
   "execution_count": 217,
   "metadata": {},
   "outputs": [
    {
     "data": {
      "text/plain": [
       "array([[15, 14, 11],\n",
       "       [ 5,  7,  9]])"
      ]
     },
     "execution_count": 217,
     "metadata": {},
     "output_type": "execute_result"
    }
   ],
   "source": [
    "row = [True, False, True, True]\n",
    "y[1:3,row]"
   ]
  },
  {
   "cell_type": "markdown",
   "metadata": {},
   "source": [
    "#### 在机器学习中需要对表格中的数据进行批量的比较，返回的就是这种形式的布尔数组"
   ]
  },
  {
   "cell_type": "markdown",
   "metadata": {},
   "source": [
    "#### 3)、 numpy.array的比较，返回的就是这种布尔数组类型"
   ]
  },
  {
   "cell_type": "code",
   "execution_count": 218,
   "metadata": {},
   "outputs": [
    {
     "data": {
      "text/plain": [
       "array([4, 1, 7, 6, 9, 2, 3, 5, 8, 0])"
      ]
     },
     "execution_count": 218,
     "metadata": {},
     "output_type": "execute_result"
    }
   ],
   "source": [
    "x"
   ]
  },
  {
   "cell_type": "code",
   "execution_count": 219,
   "metadata": {},
   "outputs": [
    {
     "data": {
      "text/plain": [
       "array([ True,  True, False, False, False,  True,  True, False, False,\n",
       "        True])"
      ]
     },
     "execution_count": 219,
     "metadata": {},
     "output_type": "execute_result"
    }
   ],
   "source": [
    "x < 5"
   ]
  },
  {
   "cell_type": "code",
   "execution_count": 220,
   "metadata": {},
   "outputs": [
    {
     "data": {
      "text/plain": [
       "array([False, False,  True,  True,  True, False, False,  True,  True,\n",
       "       False])"
      ]
     },
     "execution_count": 220,
     "metadata": {},
     "output_type": "execute_result"
    }
   ],
   "source": [
    "x >= 5"
   ]
  },
  {
   "cell_type": "code",
   "execution_count": 221,
   "metadata": {},
   "outputs": [
    {
     "data": {
      "text/plain": [
       "array([False, False, False, False, False, False, False,  True, False,\n",
       "       False])"
      ]
     },
     "execution_count": 221,
     "metadata": {},
     "output_type": "execute_result"
    }
   ],
   "source": [
    "x == 5"
   ]
  },
  {
   "cell_type": "code",
   "execution_count": 222,
   "metadata": {},
   "outputs": [
    {
     "data": {
      "text/plain": [
       "array([ True, False, False, False, False, False, False, False, False,\n",
       "       False])"
      ]
     },
     "execution_count": 222,
     "metadata": {},
     "output_type": "execute_result"
    }
   ],
   "source": [
    "2*x == 24 - 4*x"
   ]
  },
  {
   "cell_type": "code",
   "execution_count": 226,
   "metadata": {},
   "outputs": [
    {
     "data": {
      "text/plain": [
       "5"
      ]
     },
     "execution_count": 226,
     "metadata": {},
     "output_type": "execute_result"
    }
   ],
   "source": [
    "np.sum(x < 5)"
   ]
  },
  {
   "cell_type": "code",
   "execution_count": 227,
   "metadata": {},
   "outputs": [
    {
     "data": {
      "text/plain": [
       "4"
      ]
     },
     "execution_count": 227,
     "metadata": {},
     "output_type": "execute_result"
    }
   ],
   "source": [
    "np.sum(x > 5)"
   ]
  },
  {
   "cell_type": "code",
   "execution_count": 228,
   "metadata": {},
   "outputs": [
    {
     "data": {
      "text/plain": [
       "4"
      ]
     },
     "execution_count": 228,
     "metadata": {},
     "output_type": "execute_result"
    }
   ],
   "source": [
    "#查看数组中不为0的元素的个数\n",
    "np.count_nonzero(x > 5)"
   ]
  },
  {
   "cell_type": "code",
   "execution_count": 230,
   "metadata": {},
   "outputs": [
    {
     "data": {
      "text/plain": [
       "True"
      ]
     },
     "execution_count": 230,
     "metadata": {},
     "output_type": "execute_result"
    }
   ],
   "source": [
    "#查看数组中是否有零元素,，如果有，则返回True，如果没有，则返回False\n",
    "np.any(x == 0)"
   ]
  },
  {
   "cell_type": "code",
   "execution_count": 231,
   "metadata": {},
   "outputs": [
    {
     "data": {
      "text/plain": [
       "True"
      ]
     },
     "execution_count": 231,
     "metadata": {},
     "output_type": "execute_result"
    }
   ],
   "source": [
    "#查看数组中所有的元素是否满足条件\n",
    "np.all(x >= 0)"
   ]
  },
  {
   "cell_type": "code",
   "execution_count": 225,
   "metadata": {},
   "outputs": [
    {
     "data": {
      "text/plain": [
       "array([[ 2,  3,  6, 11],\n",
       "       [15,  4, 14, 11],\n",
       "       [ 5, 11,  7,  9],\n",
       "       [ 3,  3,  6,  4]])"
      ]
     },
     "execution_count": 225,
     "metadata": {},
     "output_type": "execute_result"
    }
   ],
   "source": [
    "y"
   ]
  },
  {
   "cell_type": "code",
   "execution_count": 224,
   "metadata": {},
   "outputs": [
    {
     "data": {
      "text/plain": [
       "array([[ True,  True, False, False],\n",
       "       [False, False, False, False],\n",
       "       [False, False, False, False],\n",
       "       [ True,  True, False, False]])"
      ]
     },
     "execution_count": 224,
     "metadata": {},
     "output_type": "execute_result"
    }
   ],
   "source": [
    "y < 4"
   ]
  },
  {
   "cell_type": "code",
   "execution_count": 232,
   "metadata": {},
   "outputs": [
    {
     "data": {
      "text/plain": [
       "6"
      ]
     },
     "execution_count": 232,
     "metadata": {},
     "output_type": "execute_result"
    }
   ],
   "source": [
    "#查看二维数组中有多少个偶数\n",
    "np.sum(y % 2 == 0)"
   ]
  },
  {
   "cell_type": "code",
   "execution_count": 233,
   "metadata": {},
   "outputs": [
    {
     "data": {
      "text/plain": [
       "array([2, 2, 0, 2])"
      ]
     },
     "execution_count": 233,
     "metadata": {},
     "output_type": "execute_result"
    }
   ],
   "source": [
    "#查看每一行有多少个偶数\n",
    "np.sum(y % 2 == 0,axis = 1)"
   ]
  },
  {
   "cell_type": "code",
   "execution_count": 234,
   "metadata": {},
   "outputs": [
    {
     "data": {
      "text/plain": [
       "array([1, 1, 3, 1])"
      ]
     },
     "execution_count": 234,
     "metadata": {},
     "output_type": "execute_result"
    }
   ],
   "source": [
    "#查看每一列有多少个偶数\n",
    "np.sum(y % 2 == 0,axis = 0)"
   ]
  },
  {
   "cell_type": "code",
   "execution_count": 236,
   "metadata": {},
   "outputs": [
    {
     "data": {
      "text/plain": [
       "array([[ 2,  3,  6, 11],\n",
       "       [15,  4, 14, 11],\n",
       "       [ 5, 11,  7,  9],\n",
       "       [ 3,  3,  6,  4]])"
      ]
     },
     "execution_count": 236,
     "metadata": {},
     "output_type": "execute_result"
    }
   ],
   "source": [
    "y"
   ]
  },
  {
   "cell_type": "code",
   "execution_count": 235,
   "metadata": {},
   "outputs": [
    {
     "data": {
      "text/plain": [
       "array([[ 5, 11,  7,  9]])"
      ]
     },
     "execution_count": 235,
     "metadata": {},
     "output_type": "execute_result"
    }
   ],
   "source": [
    "y[y[:,3] % 3 == 0, :]"
   ]
  },
  {
   "cell_type": "markdown",
   "metadata": {},
   "source": [
    "### Numpy是机器学习中处理数据的常用工具，一定要掌握"
   ]
  },
  {
   "cell_type": "markdown",
   "metadata": {},
   "source": [
    "# 3、 Matplotlib数据可视化"
   ]
  },
  {
   "cell_type": "code",
   "execution_count": 239,
   "metadata": {},
   "outputs": [
    {
     "data": {
      "text/plain": [
       "array([ 0.        ,  0.52631579,  1.05263158,  1.57894737,  2.10526316,\n",
       "        2.63157895,  3.15789474,  3.68421053,  4.21052632,  4.73684211,\n",
       "        5.26315789,  5.78947368,  6.31578947,  6.84210526,  7.36842105,\n",
       "        7.89473684,  8.42105263,  8.94736842,  9.47368421, 10.        ])"
      ]
     },
     "execution_count": 239,
     "metadata": {},
     "output_type": "execute_result"
    }
   ],
   "source": [
    "import matplotlib as mpl\n",
    "import matplotlib.pyplot as plt\n",
    "import numpy as np\n",
    "x1 = np.linspace(0,10,20)\n",
    "x1"
   ]
  },
  {
   "cell_type": "code",
   "execution_count": 241,
   "metadata": {},
   "outputs": [
    {
     "data": {
      "text/plain": [
       "array([ 0.        ,  0.50235115,  0.86872962,  0.99996678,  0.86054034,\n",
       "        0.48818921, -0.01630136, -0.5163796 , -0.87668803, -0.99970104,\n",
       "       -0.85212237, -0.47389753,  0.03259839,  0.53027082,  0.88441346,\n",
       "        0.99916962,  0.84347795,  0.4594799 , -0.04888676, -0.54402111])"
      ]
     },
     "execution_count": 241,
     "metadata": {},
     "output_type": "execute_result"
    }
   ],
   "source": [
    "y1 = np.sin(x1)\n",
    "y1"
   ]
  },
  {
   "cell_type": "code",
   "execution_count": 242,
   "metadata": {},
   "outputs": [
    {
     "data": {
      "image/png": "[encoded data removed]",
      "text/plain": [
       "<Figure size 432x288 with 1 Axes>"
      ]
     },
     "metadata": {
      "needs_background": "light"
     },
     "output_type": "display_data"
    }
   ],
   "source": [
    "plt.plot(x1,y1)\n",
    "plt.show()"
   ]
  },
  {
   "cell_type": "code",
   "execution_count": 243,
   "metadata": {},
   "outputs": [],
   "source": [
    "y2 = np.cos(x1)"
   ]
  },
  {
   "cell_type": "code",
   "execution_count": 250,
   "metadata": {},
   "outputs": [
    {
     "data": {
      "image/png": "[encoded data removed]",
      "text/plain": [
       "<Figure size 432x288 with 1 Axes>"
      ]
     },
     "metadata": {
      "needs_background": "light"
     },
     "output_type": "display_data"
    }
   ],
   "source": [
    "plt.plot(x1, y1, label = \"sin(x)\")\n",
    "plt.plot(x1, y2, label = \"cos(x)\", linestyle = \"--\", color = \"r\")\n",
    "plt.axis([0,10,-1,1])   #限制x，y范围\n",
    "plt.xlabel(\"x axis\")\n",
    "plt.ylabel(\"y axis\")\n",
    "plt.legend()\n",
    "plt.title(\"welcome\")\n",
    "plt.show()"
   ]
  },
  {
   "cell_type": "markdown",
   "metadata": {},
   "source": [
    "### （2）、散点图(在机器学习中很常用)"
   ]
  },
  {
   "cell_type": "code",
   "execution_count": 252,
   "metadata": {},
   "outputs": [
    {
     "data": {
      "image/png": "[encoded data removed]",
      "text/plain": [
       "<Figure size 432x288 with 1 Axes>"
      ]
     },
     "metadata": {
      "needs_background": "light"
     },
     "output_type": "display_data"
    }
   ],
   "source": [
    "plt.scatter(x1,y1)\n",
    "plt.scatter(x1,y2,color = \"r\")\n",
    "plt.show()"
   ]
  },
  {
   "cell_type": "markdown",
   "metadata": {},
   "source": [
    "#### 散点图的横纵两个轴都是特征轴"
   ]
  },
  {
   "cell_type": "markdown",
   "metadata": {},
   "source": [
    "#### 生成服从正态分布的二维三散点图"
   ]
  },
  {
   "cell_type": "code",
   "execution_count": 257,
   "metadata": {},
   "outputs": [
    {
     "data": {
      "image/png": "[encoded data removed]",
      "text/plain": [
       "<Figure size 432x288 with 1 Axes>"
      ]
     },
     "metadata": {
      "needs_background": "light"
     },
     "output_type": "display_data"
    }
   ],
   "source": [
    "x = np.random.normal(0,1,10000)\n",
    "y = np.random.normal(0,1,10000)\n",
    "plt.scatter(x,y,alpha = 0.6)\n",
    "#alpha = 0,完全透明，alpha = 1,完全不透明\n",
    "plt.show()"
   ]
  },
  {
   "cell_type": "markdown",
   "metadata": {},
   "source": [
    "# 4、sklearn 库的使用"
   ]
  },
  {
   "cell_type": "code",
   "execution_count": 258,
   "metadata": {},
   "outputs": [],
   "source": [
    "import numpy as np\n",
    "import matplotlib as mpl\n",
    "import matplotlib.pyplot as plt"
   ]
  },
  {
   "cell_type": "markdown",
   "metadata": {},
   "source": [
    "#### 调用sklearn中的鸢尾花数据集"
   ]
  },
  {
   "cell_type": "code",
   "execution_count": 259,
   "metadata": {},
   "outputs": [
    {
     "data": {
      "text/plain": [
       "dict_keys(['data', 'target', 'target_names', 'DESCR', 'feature_names'])"
      ]
     },
     "execution_count": 259,
     "metadata": {},
     "output_type": "execute_result"
    }
   ],
   "source": [
    "from sklearn import datasets\n",
    "iris = datasets.load_iris()\n",
    "#使用keys查看iris中有什么东西\n",
    "iris.keys()"
   ]
  },
  {
   "cell_type": "markdown",
   "metadata": {},
   "source": [
    "#### 打开iris数据集的文档说明"
   ]
  },
  {
   "cell_type": "code",
   "execution_count": 260,
   "metadata": {},
   "outputs": [
    {
     "name": "stdout",
     "output_type": "stream",
     "text": [
      "Iris Plants Database\n",
      "====================\n",
      "\n",
      "Notes\n",
      "-----\n",
      "Data Set Characteristics:\n",
      "    :Number of Instances: 150 (50 in each of three classes)\n",
      "    :Number of Attributes: 4 numeric, predictive attributes and the class\n",
      "    :Attribute Information:\n",
      "        - sepal length in cm\n",
      "        - sepal width in cm\n",
      "        - petal length in cm\n",
      "        - petal width in cm\n",
      "        - class:\n",
      "                - Iris-Setosa\n",
      "                - Iris-Versicolour\n",
      "                - Iris-Virginica\n",
      "    :Summary Statistics:\n",
      "\n",
      "    ============== ==== ==== ======= ===== ====================\n",
      "                    Min  Max   Mean    SD   Class Correlation\n",
      "    ============== ==== ==== ======= ===== ====================\n",
      "    sepal length:   4.3  7.9   5.84   0.83    0.7826\n",
      "    sepal width:    2.0  4.4   3.05   0.43   -0.4194\n",
      "    petal length:   1.0  6.9   3.76   1.76    0.9490  (high!)\n",
      "    petal width:    0.1  2.5   1.20  0.76     0.9565  (high!)\n",
      "    ============== ==== ==== ======= ===== ====================\n",
      "\n",
      "    :Missing Attribute Values: None\n",
      "    :Class Distribution: 33.3% for each of 3 classes.\n",
      "    :Creator: R.A. Fisher\n",
      "    :Donor: Michael Marshall (MARSHALL%PLU@io.arc.nasa.gov)\n",
      "    :Date: July, 1988\n",
      "\n",
      "This is a copy of UCI ML iris datasets.\n",
      "http://archive.ics.uci.edu/ml/datasets/Iris\n",
      "\n",
      "The famous Iris database, first used by Sir R.A Fisher\n",
      "\n",
      "This is perhaps the best known database to be found in the\n",
      "pattern recognition literature.  Fisher's paper is a classic in the field and\n",
      "is referenced frequently to this day.  (See Duda & Hart, for example.)  The\n",
      "data set contains 3 classes of 50 instances each, where each class refers to a\n",
      "type of iris plant.  One class is linearly separable from the other 2; the\n",
      "latter are NOT linearly separable from each other.\n",
      "\n",
      "References\n",
      "----------\n",
      "   - Fisher,R.A. \"The use of multiple measurements in taxonomic problems\"\n",
      "     Annual Eugenics, 7, Part II, 179-188 (1936); also in \"Contributions to\n",
      "     Mathematical Statistics\" (John Wiley, NY, 1950).\n",
      "   - Duda,R.O., & Hart,P.E. (1973) Pattern Classification and Scene Analysis.\n",
      "     (Q327.D83) John Wiley & Sons.  ISBN 0-471-22361-1.  See page 218.\n",
      "   - Dasarathy, B.V. (1980) \"Nosing Around the Neighborhood: A New System\n",
      "     Structure and Classification Rule for Recognition in Partially Exposed\n",
      "     Environments\".  IEEE Transactions on Pattern Analysis and Machine\n",
      "     Intelligence, Vol. PAMI-2, No. 1, 67-71.\n",
      "   - Gates, G.W. (1972) \"The Reduced Nearest Neighbor Rule\".  IEEE Transactions\n",
      "     on Information Theory, May 1972, 431-433.\n",
      "   - See also: 1988 MLC Proceedings, 54-64.  Cheeseman et al\"s AUTOCLASS II\n",
      "     conceptual clustering system finds 3 classes in the data.\n",
      "   - Many, many more ...\n",
      "\n"
     ]
    }
   ],
   "source": [
    "print(iris.DESCR)"
   ]
  },
  {
   "cell_type": "code",
   "execution_count": 261,
   "metadata": {},
   "outputs": [
    {
     "data": {
      "text/plain": [
       "array([[5.1, 3.5, 1.4, 0.2],\n",
       "       [4.9, 3. , 1.4, 0.2],\n",
       "       [4.7, 3.2, 1.3, 0.2],\n",
       "       [4.6, 3.1, 1.5, 0.2],\n",
       "       [5. , 3.6, 1.4, 0.2],\n",
       "       [5.4, 3.9, 1.7, 0.4],\n",
       "       [4.6, 3.4, 1.4, 0.3],\n",
       "       [5. , 3.4, 1.5, 0.2],\n",
       "       [4.4, 2.9, 1.4, 0.2],\n",
       "       [4.9, 3.1, 1.5, 0.1],\n",
       "       [5.4, 3.7, 1.5, 0.2],\n",
       "       [4.8, 3.4, 1.6, 0.2],\n",
       "       [4.8, 3. , 1.4, 0.1],\n",
       "       [4.3, 3. , 1.1, 0.1],\n",
       "       [5.8, 4. , 1.2, 0.2],\n",
       "       [5.7, 4.4, 1.5, 0.4],\n",
       "       [5.4, 3.9, 1.3, 0.4],\n",
       "       [5.1, 3.5, 1.4, 0.3],\n",
       "       [5.7, 3.8, 1.7, 0.3],\n",
       "       [5.1, 3.8, 1.5, 0.3],\n",
       "       [5.4, 3.4, 1.7, 0.2],\n",
       "       [5.1, 3.7, 1.5, 0.4],\n",
       "       [4.6, 3.6, 1. , 0.2],\n",
       "       [5.1, 3.3, 1.7, 0.5],\n",
       "       [4.8, 3.4, 1.9, 0.2],\n",
       "       [5. , 3. , 1.6, 0.2],\n",
       "       [5. , 3.4, 1.6, 0.4],\n",
       "       [5.2, 3.5, 1.5, 0.2],\n",
       "       [5.2, 3.4, 1.4, 0.2],\n",
       "       [4.7, 3.2, 1.6, 0.2],\n",
       "       [4.8, 3.1, 1.6, 0.2],\n",
       "       [5.4, 3.4, 1.5, 0.4],\n",
       "       [5.2, 4.1, 1.5, 0.1],\n",
       "       [5.5, 4.2, 1.4, 0.2],\n",
       "       [4.9, 3.1, 1.5, 0.1],\n",
       "       [5. , 3.2, 1.2, 0.2],\n",
       "       [5.5, 3.5, 1.3, 0.2],\n",
       "       [4.9, 3.1, 1.5, 0.1],\n",
       "       [4.4, 3. , 1.3, 0.2],\n",
       "       [5.1, 3.4, 1.5, 0.2],\n",
       "       [5. , 3.5, 1.3, 0.3],\n",
       "       [4.5, 2.3, 1.3, 0.3],\n",
       "       [4.4, 3.2, 1.3, 0.2],\n",
       "       [5. , 3.5, 1.6, 0.6],\n",
       "       [5.1, 3.8, 1.9, 0.4],\n",
       "       [4.8, 3. , 1.4, 0.3],\n",
       "       [5.1, 3.8, 1.6, 0.2],\n",
       "       [4.6, 3.2, 1.4, 0.2],\n",
       "       [5.3, 3.7, 1.5, 0.2],\n",
       "       [5. , 3.3, 1.4, 0.2],\n",
       "       [7. , 3.2, 4.7, 1.4],\n",
       "       [6.4, 3.2, 4.5, 1.5],\n",
       "       [6.9, 3.1, 4.9, 1.5],\n",
       "       [5.5, 2.3, 4. , 1.3],\n",
       "       [6.5, 2.8, 4.6, 1.5],\n",
       "       [5.7, 2.8, 4.5, 1.3],\n",
       "       [6.3, 3.3, 4.7, 1.6],\n",
       "       [4.9, 2.4, 3.3, 1. ],\n",
       "       [6.6, 2.9, 4.6, 1.3],\n",
       "       [5.2, 2.7, 3.9, 1.4],\n",
       "       [5. , 2. , 3.5, 1. ],\n",
       "       [5.9, 3. , 4.2, 1.5],\n",
       "       [6. , 2.2, 4. , 1. ],\n",
       "       [6.1, 2.9, 4.7, 1.4],\n",
       "       [5.6, 2.9, 3.6, 1.3],\n",
       "       [6.7, 3.1, 4.4, 1.4],\n",
       "       [5.6, 3. , 4.5, 1.5],\n",
       "       [5.8, 2.7, 4.1, 1. ],\n",
       "       [6.2, 2.2, 4.5, 1.5],\n",
       "       [5.6, 2.5, 3.9, 1.1],\n",
       "       [5.9, 3.2, 4.8, 1.8],\n",
       "       [6.1, 2.8, 4. , 1.3],\n",
       "       [6.3, 2.5, 4.9, 1.5],\n",
       "       [6.1, 2.8, 4.7, 1.2],\n",
       "       [6.4, 2.9, 4.3, 1.3],\n",
       "       [6.6, 3. , 4.4, 1.4],\n",
       "       [6.8, 2.8, 4.8, 1.4],\n",
       "       [6.7, 3. , 5. , 1.7],\n",
       "       [6. , 2.9, 4.5, 1.5],\n",
       "       [5.7, 2.6, 3.5, 1. ],\n",
       "       [5.5, 2.4, 3.8, 1.1],\n",
       "       [5.5, 2.4, 3.7, 1. ],\n",
       "       [5.8, 2.7, 3.9, 1.2],\n",
       "       [6. , 2.7, 5.1, 1.6],\n",
       "       [5.4, 3. , 4.5, 1.5],\n",
       "       [6. , 3.4, 4.5, 1.6],\n",
       "       [6.7, 3.1, 4.7, 1.5],\n",
       "       [6.3, 2.3, 4.4, 1.3],\n",
       "       [5.6, 3. , 4.1, 1.3],\n",
       "       [5.5, 2.5, 4. , 1.3],\n",
       "       [5.5, 2.6, 4.4, 1.2],\n",
       "       [6.1, 3. , 4.6, 1.4],\n",
       "       [5.8, 2.6, 4. , 1.2],\n",
       "       [5. , 2.3, 3.3, 1. ],\n",
       "       [5.6, 2.7, 4.2, 1.3],\n",
       "       [5.7, 3. , 4.2, 1.2],\n",
       "       [5.7, 2.9, 4.2, 1.3],\n",
       "       [6.2, 2.9, 4.3, 1.3],\n",
       "       [5.1, 2.5, 3. , 1.1],\n",
       "       [5.7, 2.8, 4.1, 1.3],\n",
       "       [6.3, 3.3, 6. , 2.5],\n",
       "       [5.8, 2.7, 5.1, 1.9],\n",
       "       [7.1, 3. , 5.9, 2.1],\n",
       "       [6.3, 2.9, 5.6, 1.8],\n",
       "       [6.5, 3. , 5.8, 2.2],\n",
       "       [7.6, 3. , 6.6, 2.1],\n",
       "       [4.9, 2.5, 4.5, 1.7],\n",
       "       [7.3, 2.9, 6.3, 1.8],\n",
       "       [6.7, 2.5, 5.8, 1.8],\n",
       "       [7.2, 3.6, 6.1, 2.5],\n",
       "       [6.5, 3.2, 5.1, 2. ],\n",
       "       [6.4, 2.7, 5.3, 1.9],\n",
       "       [6.8, 3. , 5.5, 2.1],\n",
       "       [5.7, 2.5, 5. , 2. ],\n",
       "       [5.8, 2.8, 5.1, 2.4],\n",
       "       [6.4, 3.2, 5.3, 2.3],\n",
       "       [6.5, 3. , 5.5, 1.8],\n",
       "       [7.7, 3.8, 6.7, 2.2],\n",
       "       [7.7, 2.6, 6.9, 2.3],\n",
       "       [6. , 2.2, 5. , 1.5],\n",
       "       [6.9, 3.2, 5.7, 2.3],\n",
       "       [5.6, 2.8, 4.9, 2. ],\n",
       "       [7.7, 2.8, 6.7, 2. ],\n",
       "       [6.3, 2.7, 4.9, 1.8],\n",
       "       [6.7, 3.3, 5.7, 2.1],\n",
       "       [7.2, 3.2, 6. , 1.8],\n",
       "       [6.2, 2.8, 4.8, 1.8],\n",
       "       [6.1, 3. , 4.9, 1.8],\n",
       "       [6.4, 2.8, 5.6, 2.1],\n",
       "       [7.2, 3. , 5.8, 1.6],\n",
       "       [7.4, 2.8, 6.1, 1.9],\n",
       "       [7.9, 3.8, 6.4, 2. ],\n",
       "       [6.4, 2.8, 5.6, 2.2],\n",
       "       [6.3, 2.8, 5.1, 1.5],\n",
       "       [6.1, 2.6, 5.6, 1.4],\n",
       "       [7.7, 3. , 6.1, 2.3],\n",
       "       [6.3, 3.4, 5.6, 2.4],\n",
       "       [6.4, 3.1, 5.5, 1.8],\n",
       "       [6. , 3. , 4.8, 1.8],\n",
       "       [6.9, 3.1, 5.4, 2.1],\n",
       "       [6.7, 3.1, 5.6, 2.4],\n",
       "       [6.9, 3.1, 5.1, 2.3],\n",
       "       [5.8, 2.7, 5.1, 1.9],\n",
       "       [6.8, 3.2, 5.9, 2.3],\n",
       "       [6.7, 3.3, 5.7, 2.5],\n",
       "       [6.7, 3. , 5.2, 2.3],\n",
       "       [6.3, 2.5, 5. , 1.9],\n",
       "       [6.5, 3. , 5.2, 2. ],\n",
       "       [6.2, 3.4, 5.4, 2.3],\n",
       "       [5.9, 3. , 5.1, 1.8]])"
      ]
     },
     "execution_count": 261,
     "metadata": {},
     "output_type": "execute_result"
    }
   ],
   "source": [
    "iris.data"
   ]
  },
  {
   "cell_type": "code",
   "execution_count": 262,
   "metadata": {},
   "outputs": [
    {
     "data": {
      "text/plain": [
       "(150, 4)"
      ]
     },
     "execution_count": 262,
     "metadata": {},
     "output_type": "execute_result"
    }
   ],
   "source": [
    "iris.data.shape"
   ]
  },
  {
   "cell_type": "code",
   "execution_count": 263,
   "metadata": {},
   "outputs": [
    {
     "data": {
      "text/plain": [
       "['sepal length (cm)',\n",
       " 'sepal width (cm)',\n",
       " 'petal length (cm)',\n",
       " 'petal width (cm)']"
      ]
     },
     "execution_count": 263,
     "metadata": {},
     "output_type": "execute_result"
    }
   ],
   "source": [
    "iris.feature_names"
   ]
  },
  {
   "cell_type": "code",
   "execution_count": 264,
   "metadata": {},
   "outputs": [
    {
     "data": {
      "text/plain": [
       "array([0, 0, 0, 0, 0, 0, 0, 0, 0, 0, 0, 0, 0, 0, 0, 0, 0, 0, 0, 0, 0, 0,\n",
       "       0, 0, 0, 0, 0, 0, 0, 0, 0, 0, 0, 0, 0, 0, 0, 0, 0, 0, 0, 0, 0, 0,\n",
       "       0, 0, 0, 0, 0, 0, 1, 1, 1, 1, 1, 1, 1, 1, 1, 1, 1, 1, 1, 1, 1, 1,\n",
       "       1, 1, 1, 1, 1, 1, 1, 1, 1, 1, 1, 1, 1, 1, 1, 1, 1, 1, 1, 1, 1, 1,\n",
       "       1, 1, 1, 1, 1, 1, 1, 1, 1, 1, 1, 1, 2, 2, 2, 2, 2, 2, 2, 2, 2, 2,\n",
       "       2, 2, 2, 2, 2, 2, 2, 2, 2, 2, 2, 2, 2, 2, 2, 2, 2, 2, 2, 2, 2, 2,\n",
       "       2, 2, 2, 2, 2, 2, 2, 2, 2, 2, 2, 2, 2, 2, 2, 2, 2, 2])"
      ]
     },
     "execution_count": 264,
     "metadata": {},
     "output_type": "execute_result"
    }
   ],
   "source": [
    "iris.target"
   ]
  },
  {
   "cell_type": "code",
   "execution_count": 265,
   "metadata": {},
   "outputs": [
    {
     "data": {
      "text/plain": [
       "(150,)"
      ]
     },
     "execution_count": 265,
     "metadata": {},
     "output_type": "execute_result"
    }
   ],
   "source": [
    "iris.target.shape"
   ]
  },
  {
   "cell_type": "code",
   "execution_count": 266,
   "metadata": {},
   "outputs": [
    {
     "data": {
      "text/plain": [
       "array(['setosa', 'versicolor', 'virginica'], dtype='<U10')"
      ]
     },
     "execution_count": 266,
     "metadata": {},
     "output_type": "execute_result"
    }
   ],
   "source": [
    "iris.target_names"
   ]
  },
  {
   "cell_type": "markdown",
   "metadata": {},
   "source": [
    "#### 取鸢尾花数据前两列的数据（两个维度上的数据表示）"
   ]
  },
  {
   "cell_type": "code",
   "execution_count": 267,
   "metadata": {},
   "outputs": [
    {
     "data": {
      "text/plain": [
       "(150, 2)"
      ]
     },
     "execution_count": 267,
     "metadata": {},
     "output_type": "execute_result"
    }
   ],
   "source": [
    "x = iris.data[:,:2]\n",
    "x.shape"
   ]
  },
  {
   "cell_type": "code",
   "execution_count": 270,
   "metadata": {},
   "outputs": [
    {
     "data": {
      "image/png": "[encoded data removed]",
      "text/plain": [
       "<Figure size 432x288 with 1 Axes>"
      ]
     },
     "metadata": {
      "needs_background": "light"
     },
     "output_type": "display_data"
    }
   ],
   "source": [
    "plt.scatter(x[:,0],x[:,1])\n",
    "plt.show()"
   ]
  },
  {
   "cell_type": "code",
   "execution_count": 274,
   "metadata": {},
   "outputs": [
    {
     "data": {
      "image/png": "[encoded data removed]",
      "text/plain": [
       "<Figure size 432x288 with 1 Axes>"
      ]
     },
     "metadata": {
      "needs_background": "light"
     },
     "output_type": "display_data"
    }
   ],
   "source": [
    "#将iris数据集中的结果向量target赋值给y\n",
    "y = iris.target\n",
    "plt.scatter(x[y==0,0],x[y==0,1],color=\"r\")\n",
    "plt.scatter(x[y==1,0],x[y==1,1],color=\"b\")\n",
    "plt.scatter(x[y==2,0],x[y==2,1],color=\"g\")\n",
    "plt.show()"
   ]
  },
  {
   "cell_type": "markdown",
   "metadata": {},
   "source": [
    "#### 取鸢尾花数据后两列的数据（两个维度上的数据表示）"
   ]
  },
  {
   "cell_type": "code",
   "execution_count": 275,
   "metadata": {},
   "outputs": [
    {
     "data": {
      "image/png": "[encoded data removed]",
      "text/plain": [
       "<Figure size 432x288 with 1 Axes>"
      ]
     },
     "metadata": {
      "needs_background": "light"
     },
     "output_type": "display_data"
    }
   ],
   "source": [
    "x = iris.data[:,2:]\n",
    "y = iris.target\n",
    "plt.scatter(x[y==0,0],x[y==0,1],color=\"r\")\n",
    "plt.scatter(x[y==1,0],x[y==1,1],color=\"b\")\n",
    "plt.scatter(x[y==2,0],x[y==2,1],color=\"g\")\n",
    "plt.show()"
   ]
  },
  {
   "cell_type": "markdown",
   "metadata": {},
   "source": [
    "### 上述就是对数据探索时，对数据可视化得到好的对比效果，从而可以根据数据特征找到适合我们这个数据集的机器学习方法"
   ]
  },
  {
   "cell_type": "code",
   "execution_count": null,
   "metadata": {},
   "outputs": [],
   "source": []
  }
 ],
 "metadata": {
  "kernelspec": {
   "display_name": "Python 3",
   "language": "python",
   "name": "python3"
  },
  "language_info": {
   "codemirror_mode": {
    "name": "ipython",
    "version": 3
   },
   "file_extension": ".py",
   "mimetype": "text/x-python",
   "name": "python",
   "nbconvert_exporter": "python",
   "pygments_lexer": "ipython3",
   "version": "3.7.0"
  }
 },
 "nbformat": 4,
 "nbformat_minor": 2
}
